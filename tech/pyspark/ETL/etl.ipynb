{
 "cells": [
  {
   "cell_type": "markdown",
   "source": [
    "## Extract - Transform - Load\n",
    "\n",
    "#### this project' main objective is to show and explain how create an ETL with pySpark."
   ],
   "metadata": {
    "collapsed": false,
    "pycharm": {
     "name": "#%% md\n"
    }
   }
  },
  {
   "cell_type": "code",
   "execution_count": 32,
   "metadata": {
    "collapsed": true
   },
   "outputs": [],
   "source": [
    "from pyspark.sql import SparkSession\n",
    "from pyspark.sql import functions"
   ]
  },
  {
   "cell_type": "code",
   "execution_count": 33,
   "outputs": [],
   "source": [
    "spark = SparkSession.builder.appName(\"BooksReviewSession\") \\\n",
    "    .config(\"spark.jars\",\n",
    "            \"/Users/chipanatica/Library/Application Support/JetBrains/DataGrip2021.2/jdbc-drivers/PostgreSQl/42.2.22/postgresql-42.2.22.jar\") \\\n",
    "    .getOrCreate()"
   ],
   "metadata": {
    "collapsed": false,
    "pycharm": {
     "name": "#%%\n"
    }
   }
  },
  {
   "cell_type": "markdown",
   "source": [
    "#### Because I'm working locally I should create a Spark session specify the postgres driver due to I will to Extract and load data from this database."
   ],
   "metadata": {
    "collapsed": false,
    "pycharm": {
     "name": "#%% md\n"
    }
   }
  },
  {
   "cell_type": "markdown",
   "source": [
    "## Extract"
   ],
   "metadata": {
    "collapsed": false,
    "pycharm": {
     "name": "#%% md\n"
    }
   }
  },
  {
   "cell_type": "code",
   "execution_count": 30,
   "outputs": [],
   "source": [
    "def get_dataset(table_name: str):\n",
    "    \"\"\"\n",
    "    :var table_name: specific name from table\n",
    "    \"\"\"\n",
    "    return spark.read.format('jdbc') \\\n",
    "    .option('url', 'jdbc:postgresql://localhost:5432/test') \\\n",
    "    .option('dbtable', f'public.{table_name}') \\\n",
    "    .option('user', 'postgres') \\\n",
    "    .option('password', '') \\\n",
    "    .option('driver', 'org.postgresql.Driver') \\\n",
    "    .load()\n",
    "\n",
    "def save_dataset(db, table_name: str):\n",
    "    db.write.format('jdbc') \\\n",
    "    .option('url', 'jdbc:postgresql://localhost:5432/test') \\\n",
    "    .option('dbtable', f'public.{table_name}') \\\n",
    "    .option('user', 'postgres') \\\n",
    "    .option('password', '') \\\n",
    "    .option('driver', 'org.postgresql.Driver') \\\n",
    "    .save()"
   ],
   "metadata": {
    "collapsed": false,
    "pycharm": {
     "name": "#%%\n"
    }
   }
  },
  {
   "cell_type": "markdown",
   "source": [
    "#### I created two function to load and save data. In both case I must specify the database' url with auth parameters."
   ],
   "metadata": {
    "collapsed": false,
    "pycharm": {
     "name": "#%% md\n"
    }
   }
  },
  {
   "cell_type": "code",
   "execution_count": 14,
   "outputs": [],
   "source": [
    "book_dataset = get_dataset('books')\n",
    "user_dataset = get_dataset('book_user')\n",
    "rating_dataset = get_dataset('book_rating')"
   ],
   "metadata": {
    "collapsed": false,
    "pycharm": {
     "name": "#%%\n"
    }
   }
  },
  {
   "cell_type": "markdown",
   "source": [
    "## Transform"
   ],
   "metadata": {
    "collapsed": false,
    "pycharm": {
     "name": "#%% md\n"
    }
   },
   "execution_count": 14
  },
  {
   "cell_type": "code",
   "execution_count": 10,
   "outputs": [],
   "source": [
    "def show_basic_information(db):\n",
    "    print(f'Rows: {db.count()} - Columns: {len(db.columns)}')\n",
    "\n",
    "\n",
    "def show_nulls(db):\n",
    "    db.select([\n",
    "        functions.count(\n",
    "            functions.when(functions.isnan(c) | functions.col(c).isNull(), c)\n",
    "        ).alias(c) for c in db.columns]\n",
    "    ).show()"
   ],
   "metadata": {
    "collapsed": false,
    "pycharm": {
     "name": "#%%\n"
    }
   }
  },
  {
   "cell_type": "markdown",
   "source": [
    "#### I created other two functions: First to show detail about dataset and second function to show null by each column."
   ],
   "metadata": {
    "collapsed": false,
    "pycharm": {
     "name": "#%% md\n"
    }
   }
  },
  {
   "cell_type": "code",
   "execution_count": 11,
   "outputs": [
    {
     "name": "stdout",
     "output_type": "stream",
     "text": [
      "Rows: 270494 - Columns: 8\n"
     ]
    },
    {
     "name": "stderr",
     "output_type": "stream",
     "text": [
      "[Stage 7:>                                                          (0 + 1) / 1]\r"
     ]
    },
    {
     "name": "stdout",
     "output_type": "stream",
     "text": [
      "+----+----------+-----------+-------------------+---------+-----------+-----------+-----------+\n",
      "|isbn|Book-Title|Book-Author|Year-Of-Publication|Publisher|Image-URL-S|Image-URL-M|Image-URL-L|\n",
      "+----+----------+-----------+-------------------+---------+-----------+-----------+-----------+\n",
      "|   0|         0|          0|                  0|        0|          0|          0|          0|\n",
      "+----+----------+-----------+-------------------+---------+-----------+-----------+-----------+\n",
      "\n"
     ]
    },
    {
     "name": "stderr",
     "output_type": "stream",
     "text": [
      "                                                                                \r"
     ]
    }
   ],
   "source": [
    "show_basic_information(book_dataset)\n",
    "show_nulls(book_dataset)"
   ],
   "metadata": {
    "collapsed": false,
    "pycharm": {
     "name": "#%%\n"
    }
   }
  },
  {
   "cell_type": "code",
   "execution_count": 13,
   "outputs": [
    {
     "name": "stdout",
     "output_type": "stream",
     "text": [
      "+----------+--------------------------------------------------------------------------------------------------+--------------------+-------------------+---------------------------+------------------------------------------------------------+------------------------------------------------------------+------------------------------------------------------------+\n",
      "|isbn      |Book-Title                                                                                        |Book-Author         |Year-Of-Publication|Publisher                  |Image-URL-S                                                 |Image-URL-M                                                 |Image-URL-L                                                 |\n",
      "+----------+--------------------------------------------------------------------------------------------------+--------------------+-------------------+---------------------------+------------------------------------------------------------+------------------------------------------------------------+------------------------------------------------------------+\n",
      "|0195153448|Classical Mythology                                                                               |Mark P. O. Morford  |2002               |Oxford University Press    |http://images.amazon.com/images/P/0195153448.01.THUMBZZZ.jpg|http://images.amazon.com/images/P/0195153448.01.MZZZZZZZ.jpg|http://images.amazon.com/images/P/0195153448.01.LZZZZZZZ.jpg|\n",
      "|0002005018|Clara Callan                                                                                      |Richard Bruce Wright|2001               |HarperFlamingo Canada      |http://images.amazon.com/images/P/0002005018.01.THUMBZZZ.jpg|http://images.amazon.com/images/P/0002005018.01.MZZZZZZZ.jpg|http://images.amazon.com/images/P/0002005018.01.LZZZZZZZ.jpg|\n",
      "|0060973129|Decision in Normandy                                                                              |Carlo D'Este        |1991               |HarperPerennial            |http://images.amazon.com/images/P/0060973129.01.THUMBZZZ.jpg|http://images.amazon.com/images/P/0060973129.01.MZZZZZZZ.jpg|http://images.amazon.com/images/P/0060973129.01.LZZZZZZZ.jpg|\n",
      "|0374157065|Flu: The Story of the Great Influenza Pandemic of 1918 and the Search for the Virus That Caused It|Gina Bari Kolata    |1999               |Farrar Straus Giroux       |http://images.amazon.com/images/P/0374157065.01.THUMBZZZ.jpg|http://images.amazon.com/images/P/0374157065.01.MZZZZZZZ.jpg|http://images.amazon.com/images/P/0374157065.01.LZZZZZZZ.jpg|\n",
      "|0393045218|The Mummies of Urumchi                                                                            |E. J. W. Barber     |1999               |W. W. Norton & Company     |http://images.amazon.com/images/P/0393045218.01.THUMBZZZ.jpg|http://images.amazon.com/images/P/0393045218.01.MZZZZZZZ.jpg|http://images.amazon.com/images/P/0393045218.01.LZZZZZZZ.jpg|\n",
      "|0399135782|The Kitchen God's Wife                                                                            |Amy Tan             |1991               |Putnam Pub Group           |http://images.amazon.com/images/P/0399135782.01.THUMBZZZ.jpg|http://images.amazon.com/images/P/0399135782.01.MZZZZZZZ.jpg|http://images.amazon.com/images/P/0399135782.01.LZZZZZZZ.jpg|\n",
      "|0425176428|What If?: The World's Foremost Military Historians Imagine What Might Have Been                   |Robert Cowley       |2000               |Berkley Publishing Group   |http://images.amazon.com/images/P/0425176428.01.THUMBZZZ.jpg|http://images.amazon.com/images/P/0425176428.01.MZZZZZZZ.jpg|http://images.amazon.com/images/P/0425176428.01.LZZZZZZZ.jpg|\n",
      "|0671870432|PLEADING GUILTY                                                                                   |Scott Turow         |1993               |Audioworks                 |http://images.amazon.com/images/P/0671870432.01.THUMBZZZ.jpg|http://images.amazon.com/images/P/0671870432.01.MZZZZZZZ.jpg|http://images.amazon.com/images/P/0671870432.01.LZZZZZZZ.jpg|\n",
      "|0679425608|Under the Black Flag: The Romance and the Reality of Life Among the Pirates                       |David Cordingly     |1996               |Random House               |http://images.amazon.com/images/P/0679425608.01.THUMBZZZ.jpg|http://images.amazon.com/images/P/0679425608.01.MZZZZZZZ.jpg|http://images.amazon.com/images/P/0679425608.01.LZZZZZZZ.jpg|\n",
      "|074322678X|Where You'll Find Me: And Other Stories                                                           |Ann Beattie         |2002               |Scribner                   |http://images.amazon.com/images/P/074322678X.01.THUMBZZZ.jpg|http://images.amazon.com/images/P/074322678X.01.MZZZZZZZ.jpg|http://images.amazon.com/images/P/074322678X.01.LZZZZZZZ.jpg|\n",
      "|0771074670|Nights Below Station Street                                                                       |David Adams Richards|1988               |Emblem Editions            |http://images.amazon.com/images/P/0771074670.01.THUMBZZZ.jpg|http://images.amazon.com/images/P/0771074670.01.MZZZZZZZ.jpg|http://images.amazon.com/images/P/0771074670.01.LZZZZZZZ.jpg|\n",
      "|080652121X|Hitler's Secret Bankers: The Myth of Swiss Neutrality During the Holocaust                        |Adam Lebor          |2000               |Citadel Press              |http://images.amazon.com/images/P/080652121X.01.THUMBZZZ.jpg|http://images.amazon.com/images/P/080652121X.01.MZZZZZZZ.jpg|http://images.amazon.com/images/P/080652121X.01.LZZZZZZZ.jpg|\n",
      "|0887841740|The Middle Stories                                                                                |Sheila Heti         |2004               |House of Anansi Press      |http://images.amazon.com/images/P/0887841740.01.THUMBZZZ.jpg|http://images.amazon.com/images/P/0887841740.01.MZZZZZZZ.jpg|http://images.amazon.com/images/P/0887841740.01.LZZZZZZZ.jpg|\n",
      "|1552041778|Jane Doe                                                                                          |R. J. Kaiser        |1999               |Mira Books                 |http://images.amazon.com/images/P/1552041778.01.THUMBZZZ.jpg|http://images.amazon.com/images/P/1552041778.01.MZZZZZZZ.jpg|http://images.amazon.com/images/P/1552041778.01.LZZZZZZZ.jpg|\n",
      "|1558746218|A Second Chicken Soup for the Woman's Soul (Chicken Soup for the Soul Series)                     |Jack Canfield       |1998               |Health Communications      |http://images.amazon.com/images/P/1558746218.01.THUMBZZZ.jpg|http://images.amazon.com/images/P/1558746218.01.MZZZZZZZ.jpg|http://images.amazon.com/images/P/1558746218.01.LZZZZZZZ.jpg|\n",
      "|1567407781|The Witchfinder (Amos Walker Mystery Series)                                                      |Loren D. Estleman   |1998               |Brilliance Audio - Trade   |http://images.amazon.com/images/P/1567407781.01.THUMBZZZ.jpg|http://images.amazon.com/images/P/1567407781.01.MZZZZZZZ.jpg|http://images.amazon.com/images/P/1567407781.01.LZZZZZZZ.jpg|\n",
      "|1575663937|More Cunning Than Man: A Social History of Rats and Man                                           |Robert Hendrickson  |1999               |Kensington Publishing Corp.|http://images.amazon.com/images/P/1575663937.01.THUMBZZZ.jpg|http://images.amazon.com/images/P/1575663937.01.MZZZZZZZ.jpg|http://images.amazon.com/images/P/1575663937.01.LZZZZZZZ.jpg|\n",
      "|1881320189|Goodbye to the Buttermilk Sky                                                                     |Julia Oliver        |1994               |River City Pub             |http://images.amazon.com/images/P/1881320189.01.THUMBZZZ.jpg|http://images.amazon.com/images/P/1881320189.01.MZZZZZZZ.jpg|http://images.amazon.com/images/P/1881320189.01.LZZZZZZZ.jpg|\n",
      "|0440234743|The Testament                                                                                     |John Grisham        |1999               |Dell                       |http://images.amazon.com/images/P/0440234743.01.THUMBZZZ.jpg|http://images.amazon.com/images/P/0440234743.01.MZZZZZZZ.jpg|http://images.amazon.com/images/P/0440234743.01.LZZZZZZZ.jpg|\n",
      "|0452264464|Beloved (Plume Contemporary Fiction)                                                              |Toni Morrison       |1994               |Plume                      |http://images.amazon.com/images/P/0452264464.01.THUMBZZZ.jpg|http://images.amazon.com/images/P/0452264464.01.MZZZZZZZ.jpg|http://images.amazon.com/images/P/0452264464.01.LZZZZZZZ.jpg|\n",
      "+----------+--------------------------------------------------------------------------------------------------+--------------------+-------------------+---------------------------+------------------------------------------------------------+------------------------------------------------------------+------------------------------------------------------------+\n",
      "only showing top 20 rows\n",
      "\n"
     ]
    }
   ],
   "source": [
    "book_dataset.show(truncate=False)"
   ],
   "metadata": {
    "collapsed": false,
    "pycharm": {
     "name": "#%%\n"
    }
   }
  },
  {
   "cell_type": "code",
   "execution_count": 15,
   "outputs": [
    {
     "name": "stdout",
     "output_type": "stream",
     "text": [
      "+------+--------------------------------------+----+\n",
      "|UserID|Location                              |Age |\n",
      "+------+--------------------------------------+----+\n",
      "|1     |nyc, new york, usa                    |NULL|\n",
      "|2     |stockton, california, usa             |18  |\n",
      "|3     |moscow, yukon territory, russia       |NULL|\n",
      "|4     |porto, v.n.gaia, portugal             |17  |\n",
      "|5     |farnborough, hants, united kingdom    |NULL|\n",
      "|6     |santa monica, california, usa         |61  |\n",
      "|7     |washington, dc, usa                   |NULL|\n",
      "|8     |timmins, ontario, canada              |NULL|\n",
      "|9     |germantown, tennessee, usa            |NULL|\n",
      "|10    |albacete, wisconsin, spain            |26  |\n",
      "|11    |melbourne, victoria, australia        |14  |\n",
      "|12    |fort bragg, california, usa           |NULL|\n",
      "|13    |barcelona, barcelona, spain           |26  |\n",
      "|14    |mediapolis, iowa, usa                 |NULL|\n",
      "|15    |calgary, alberta, canada              |NULL|\n",
      "|16    |albuquerque, new mexico, usa          |NULL|\n",
      "|17    |chesapeake, virginia, usa             |NULL|\n",
      "|18    |rio de janeiro, rio de janeiro, brazil|25  |\n",
      "|19    |weston, ,                             |14  |\n",
      "|20    |langhorne, pennsylvania, usa          |19  |\n",
      "+------+--------------------------------------+----+\n",
      "only showing top 20 rows\n",
      "\n"
     ]
    }
   ],
   "source": [
    "user_dataset.show(truncate=False)"
   ],
   "metadata": {
    "collapsed": false,
    "pycharm": {
     "name": "#%%\n"
    }
   }
  },
  {
   "cell_type": "markdown",
   "source": [
    "#### In the User dataset, one of the transformation that I can do is split Location in three columns. So,"
   ],
   "metadata": {
    "collapsed": false,
    "pycharm": {
     "name": "#%% md\n"
    }
   }
  },
  {
   "cell_type": "code",
   "execution_count": 16,
   "outputs": [
    {
     "name": "stdout",
     "output_type": "stream",
     "text": [
      "+------+----------+-----------+\n",
      "|UserID|isbn      |Book-Rating|\n",
      "+------+----------+-----------+\n",
      "|276725|034545104X|0          |\n",
      "|276726|0155061224|5          |\n",
      "|276727|0446520802|0          |\n",
      "|276729|052165615X|3          |\n",
      "|276729|0521795028|6          |\n",
      "|276733|2080674722|0          |\n",
      "|276736|3257224281|8          |\n",
      "|276737|0600570967|6          |\n",
      "|276744|038550120X|7          |\n",
      "|276745|342310538 |10         |\n",
      "|276746|0425115801|0          |\n",
      "|276746|0449006522|0          |\n",
      "|276746|0553561618|0          |\n",
      "|276746|055356451X|0          |\n",
      "|276746|0786013990|0          |\n",
      "|276746|0786014512|0          |\n",
      "|276747|0060517794|9          |\n",
      "|276747|0451192001|0          |\n",
      "|276747|0609801279|0          |\n",
      "|276747|0671537458|9          |\n",
      "+------+----------+-----------+\n",
      "only showing top 20 rows\n",
      "\n"
     ]
    }
   ],
   "source": [
    "rating_dataset.show(truncate=False)"
   ],
   "metadata": {
    "collapsed": false,
    "pycharm": {
     "name": "#%%\n"
    }
   }
  },
  {
   "cell_type": "code",
   "execution_count": 20,
   "outputs": [
    {
     "name": "stdout",
     "output_type": "stream",
     "text": [
      "+------+--------------------------------------+----+------------------------------------------+\n",
      "|UserID|Location                              |Age |Location_Array                            |\n",
      "+------+--------------------------------------+----+------------------------------------------+\n",
      "|1     |nyc, new york, usa                    |NULL|[nyc,  new york,  usa]                    |\n",
      "|2     |stockton, california, usa             |18  |[stockton,  california,  usa]             |\n",
      "|3     |moscow, yukon territory, russia       |NULL|[moscow,  yukon territory,  russia]       |\n",
      "|4     |porto, v.n.gaia, portugal             |17  |[porto,  v.n.gaia,  portugal]             |\n",
      "|5     |farnborough, hants, united kingdom    |NULL|[farnborough,  hants,  united kingdom]    |\n",
      "|6     |santa monica, california, usa         |61  |[santa monica,  california,  usa]         |\n",
      "|7     |washington, dc, usa                   |NULL|[washington,  dc,  usa]                   |\n",
      "|8     |timmins, ontario, canada              |NULL|[timmins,  ontario,  canada]              |\n",
      "|9     |germantown, tennessee, usa            |NULL|[germantown,  tennessee,  usa]            |\n",
      "|10    |albacete, wisconsin, spain            |26  |[albacete,  wisconsin,  spain]            |\n",
      "|11    |melbourne, victoria, australia        |14  |[melbourne,  victoria,  australia]        |\n",
      "|12    |fort bragg, california, usa           |NULL|[fort bragg,  california,  usa]           |\n",
      "|13    |barcelona, barcelona, spain           |26  |[barcelona,  barcelona,  spain]           |\n",
      "|14    |mediapolis, iowa, usa                 |NULL|[mediapolis,  iowa,  usa]                 |\n",
      "|15    |calgary, alberta, canada              |NULL|[calgary,  alberta,  canada]              |\n",
      "|16    |albuquerque, new mexico, usa          |NULL|[albuquerque,  new mexico,  usa]          |\n",
      "|17    |chesapeake, virginia, usa             |NULL|[chesapeake,  virginia,  usa]             |\n",
      "|18    |rio de janeiro, rio de janeiro, brazil|25  |[rio de janeiro,  rio de janeiro,  brazil]|\n",
      "|19    |weston, ,                             |14  |[weston,  , ]                             |\n",
      "|20    |langhorne, pennsylvania, usa          |19  |[langhorne,  pennsylvania,  usa]          |\n",
      "+------+--------------------------------------+----+------------------------------------------+\n",
      "only showing top 20 rows\n",
      "\n"
     ]
    }
   ],
   "source": [
    "user_dataset = user_dataset.withColumn('Location_Array', functions.split('Location', ','))\n",
    "user_dataset.show(truncate=False)"
   ],
   "metadata": {
    "collapsed": false,
    "pycharm": {
     "name": "#%%\n"
    }
   }
  },
  {
   "cell_type": "markdown",
   "source": [
    "#### Well, in the before code I transform the location column from string to list. The reason is that is more easy to work with list that with string in this scenario."
   ],
   "metadata": {
    "collapsed": false,
    "pycharm": {
     "name": "#%% md\n"
    }
   },
   "execution_count": 35
  },
  {
   "cell_type": "code",
   "execution_count": 27,
   "outputs": [
    {
     "name": "stdout",
     "output_type": "stream",
     "text": [
      "+------+----+--------------+----------------+---------------+\n",
      "|UserID|Age |State         |City            |Country        |\n",
      "+------+----+--------------+----------------+---------------+\n",
      "|1     |NULL|nyc           | new york       | usa           |\n",
      "|2     |18  |stockton      | california     | usa           |\n",
      "|3     |NULL|moscow        | yukon territory| russia        |\n",
      "|4     |17  |porto         | v.n.gaia       | portugal      |\n",
      "|5     |NULL|farnborough   | hants          | united kingdom|\n",
      "|6     |61  |santa monica  | california     | usa           |\n",
      "|7     |NULL|washington    | dc             | usa           |\n",
      "|8     |NULL|timmins       | ontario        | canada        |\n",
      "|9     |NULL|germantown    | tennessee      | usa           |\n",
      "|10    |26  |albacete      | wisconsin      | spain         |\n",
      "|11    |14  |melbourne     | victoria       | australia     |\n",
      "|12    |NULL|fort bragg    | california     | usa           |\n",
      "|13    |26  |barcelona     | barcelona      | spain         |\n",
      "|14    |NULL|mediapolis    | iowa           | usa           |\n",
      "|15    |NULL|calgary       | alberta        | canada        |\n",
      "|16    |NULL|albuquerque   | new mexico     | usa           |\n",
      "|17    |NULL|chesapeake    | virginia       | usa           |\n",
      "|18    |25  |rio de janeiro| rio de janeiro | brazil        |\n",
      "|19    |14  |weston        |                |               |\n",
      "|20    |19  |langhorne     | pennsylvania   | usa           |\n",
      "+------+----+--------------+----------------+---------------+\n",
      "only showing top 20 rows\n",
      "\n"
     ]
    }
   ],
   "source": [
    "user_dataset = user_dataset\\\n",
    "    .withColumn('State', user_dataset.Location_Array[0])\\\n",
    "    .withColumn('City', user_dataset.Location_Array[1])\\\n",
    "    .withColumn('Country', user_dataset.Location_Array[2])\\\n",
    "    .drop('Location_Array')\\\n",
    "    .drop('Location')\n",
    "\n",
    "user_dataset.show(truncate=False)"
   ],
   "metadata": {
    "collapsed": false,
    "pycharm": {
     "name": "#%%\n"
    }
   }
  },
  {
   "cell_type": "markdown",
   "source": [
    "#### With the new Location_Array column  I created three new columns State - City - Country based on the Location_Array column. Next step was that I drop Location_Array and Location columns because I will don't need."
   ],
   "metadata": {
    "collapsed": false,
    "pycharm": {
     "name": "#%% md\n"
    }
   }
  },
  {
   "cell_type": "markdown",
   "source": [
    "## Load"
   ],
   "metadata": {
    "collapsed": false,
    "pycharm": {
     "name": "#%% md\n"
    }
   }
  },
  {
   "cell_type": "code",
   "execution_count": 31,
   "outputs": [
    {
     "name": "stderr",
     "output_type": "stream",
     "text": [
      "                                                                                \r"
     ]
    }
   ],
   "source": [
    "save_dataset(user_dataset, 'user')"
   ],
   "metadata": {
    "collapsed": false,
    "pycharm": {
     "name": "#%%\n"
    }
   }
  },
  {
   "cell_type": "markdown",
   "source": [
    "#### With the second function that I created I save the new  user data information on new table. This is only for example and show how we can save data.\n"
   ],
   "metadata": {
    "collapsed": false,
    "pycharm": {
     "name": "#%% md\n"
    }
   }
  }
 ],
 "metadata": {
  "kernelspec": {
   "display_name": "Python 3",
   "language": "python",
   "name": "python3"
  },
  "language_info": {
   "codemirror_mode": {
    "name": "ipython",
    "version": 2
   },
   "file_extension": ".py",
   "mimetype": "text/x-python",
   "name": "python",
   "nbconvert_exporter": "python",
   "pygments_lexer": "ipython2",
   "version": "2.7.6"
  }
 },
 "nbformat": 4,
 "nbformat_minor": 0
}