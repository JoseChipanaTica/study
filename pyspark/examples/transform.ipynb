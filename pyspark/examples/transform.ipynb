{
 "cells": [
  {
   "cell_type": "code",
   "execution_count": 25,
   "metadata": {
    "collapsed": true
   },
   "outputs": [],
   "source": [
    "from pyspark.sql import SparkSession\n",
    "from pyspark.sql import functions\n",
    "\n",
    "import warnings\n",
    "warnings.filterwarnings(\"ignore\")"
   ]
  },
  {
   "cell_type": "code",
   "execution_count": 26,
   "outputs": [],
   "source": [
    "\n",
    "spark = SparkSession.builder.appName(\"BooksReviewSession\").getOrCreate()"
   ],
   "metadata": {
    "collapsed": false,
    "pycharm": {
     "name": "#%%\n"
    }
   }
  },
  {
   "cell_type": "code",
   "execution_count": 27,
   "outputs": [],
   "source": [
    "dataset_rating = spark.read.csv(\n",
    "    path='../../../data/book_reviews/book_rating.csv',\n",
    "    header=True,\n",
    "    inferSchema=True,\n",
    "    sep=';'\n",
    ")"
   ],
   "metadata": {
    "collapsed": false,
    "pycharm": {
     "name": "#%%\n"
    }
   }
  },
  {
   "cell_type": "code",
   "execution_count": 28,
   "outputs": [],
   "source": [
    "dataset_books = spark.read.csv(\n",
    "    path='../../../data/book_reviews/books.csv',\n",
    "    header=True,\n",
    "    inferSchema=True,\n",
    "    sep=';'\n",
    ")"
   ],
   "metadata": {
    "collapsed": false,
    "pycharm": {
     "name": "#%%\n"
    }
   }
  },
  {
   "cell_type": "code",
   "execution_count": 29,
   "outputs": [
    {
     "name": "stdout",
     "output_type": "stream",
     "text": [
      "root\n",
      " |-- User-ID: integer (nullable = true)\n",
      " |-- ISBN: string (nullable = true)\n",
      " |-- Book-Rating: integer (nullable = true)\n",
      "\n"
     ]
    }
   ],
   "source": [
    "dataset_rating.printSchema()"
   ],
   "metadata": {
    "collapsed": false,
    "pycharm": {
     "name": "#%%\n"
    }
   }
  },
  {
   "cell_type": "code",
   "execution_count": 30,
   "outputs": [
    {
     "name": "stdout",
     "output_type": "stream",
     "text": [
      "+-------+----------+-----------+\n",
      "|User-ID|ISBN      |Book-Rating|\n",
      "+-------+----------+-----------+\n",
      "|276725 |034545104X|0          |\n",
      "|276726 |0155061224|5          |\n",
      "|276727 |0446520802|0          |\n",
      "|276729 |052165615X|3          |\n",
      "|276729 |0521795028|6          |\n",
      "|276733 |2080674722|0          |\n",
      "|276736 |3257224281|8          |\n",
      "|276737 |0600570967|6          |\n",
      "|276744 |038550120X|7          |\n",
      "|276745 |342310538 |10         |\n",
      "|276746 |0425115801|0          |\n",
      "|276746 |0449006522|0          |\n",
      "|276746 |0553561618|0          |\n",
      "|276746 |055356451X|0          |\n",
      "|276746 |0786013990|0          |\n",
      "|276746 |0786014512|0          |\n",
      "|276747 |0060517794|9          |\n",
      "|276747 |0451192001|0          |\n",
      "|276747 |0609801279|0          |\n",
      "|276747 |0671537458|9          |\n",
      "+-------+----------+-----------+\n",
      "only showing top 20 rows\n",
      "\n"
     ]
    }
   ],
   "source": [
    "dataset_rating.show(truncate=False)"
   ],
   "metadata": {
    "collapsed": false,
    "pycharm": {
     "name": "#%%\n"
    }
   }
  },
  {
   "cell_type": "code",
   "execution_count": 31,
   "outputs": [
    {
     "name": "stdout",
     "output_type": "stream",
     "text": [
      "+------+----------+------+\n",
      "|UserID|    BookID|Rating|\n",
      "+------+----------+------+\n",
      "|276725|034545104X|     0|\n",
      "|276726|0155061224|     5|\n",
      "|276727|0446520802|     0|\n",
      "|276729|052165615X|     3|\n",
      "|276729|0521795028|     6|\n",
      "|276733|2080674722|     0|\n",
      "|276736|3257224281|     8|\n",
      "|276737|0600570967|     6|\n",
      "|276744|038550120X|     7|\n",
      "|276745| 342310538|    10|\n",
      "|276746|0425115801|     0|\n",
      "|276746|0449006522|     0|\n",
      "|276746|0553561618|     0|\n",
      "|276746|055356451X|     0|\n",
      "|276746|0786013990|     0|\n",
      "|276746|0786014512|     0|\n",
      "|276747|0060517794|     9|\n",
      "|276747|0451192001|     0|\n",
      "|276747|0609801279|     0|\n",
      "|276747|0671537458|     9|\n",
      "+------+----------+------+\n",
      "only showing top 20 rows\n",
      "\n"
     ]
    }
   ],
   "source": [
    "dataset_rating = dataset_rating\\\n",
    "    .withColumnRenamed('USER-ID', 'UserID')\\\n",
    "    .withColumnRenamed('ISBN', 'BookID')\\\n",
    "    .withColumnRenamed('Book-Rating', 'Rating')\n",
    "\n",
    "dataset_rating.show()"
   ],
   "metadata": {
    "collapsed": false,
    "pycharm": {
     "name": "#%%\n"
    }
   }
  },
  {
   "cell_type": "code",
   "execution_count": 32,
   "outputs": [
    {
     "name": "stdout",
     "output_type": "stream",
     "text": [
      "+------+-----+\n",
      "|UserId|count|\n",
      "+------+-----+\n",
      "| 11676|13602|\n",
      "|198711| 7550|\n",
      "|153662| 6109|\n",
      "| 98391| 5891|\n",
      "| 35859| 5850|\n",
      "|212898| 4785|\n",
      "|278418| 4533|\n",
      "| 76352| 3367|\n",
      "|110973| 3100|\n",
      "|235105| 3067|\n",
      "|230522| 2991|\n",
      "| 16795| 2948|\n",
      "|234623| 2674|\n",
      "| 36836| 2529|\n",
      "| 52584| 2512|\n",
      "|245963| 2507|\n",
      "|204864| 2504|\n",
      "| 55492| 2459|\n",
      "|185233| 2448|\n",
      "|171118| 2421|\n",
      "+------+-----+\n",
      "only showing top 20 rows\n",
      "\n"
     ]
    }
   ],
   "source": [
    "dataset_rating.groupby('UserId')\\\n",
    "    .count()\\\n",
    "    .sort('count', ascending=False).show()"
   ],
   "metadata": {
    "collapsed": false,
    "pycharm": {
     "name": "#%%\n"
    }
   }
  },
  {
   "cell_type": "code",
   "execution_count": 33,
   "outputs": [
    {
     "name": "stdout",
     "output_type": "stream",
     "text": [
      "+------+-----------+---------+--------------------+---------+\n",
      "|UserID|RatingCount|RatingMin|          RatingMean|RatingMax|\n",
      "+------+-----------+---------+--------------------+---------+\n",
      "| 11676|      13602|        0|   4.564916923981768|       10|\n",
      "|198711|       7550|        0| 0.01629139072847682|       10|\n",
      "|153662|       6109|        0|   2.786871828449828|       10|\n",
      "| 98391|       5891|        0|   8.728229502631132|       10|\n",
      "| 35859|       5850|        0|  1.0758974358974358|       10|\n",
      "|212898|       4785|        0|0.003134796238244514|        5|\n",
      "|278418|       4533|        0| 0.15927641738363116|       10|\n",
      "| 76352|       3367|        0| 0.14523314523314523|       10|\n",
      "|110973|       3100|        0|   0.787741935483871|       10|\n",
      "|235105|       3067|        0|   2.671992174763613|       10|\n",
      "|230522|       2991|        0|  0.9117352056168505|       10|\n",
      "| 16795|       2948|        0|  2.3348032564450474|       10|\n",
      "|234623|       2674|        0| 0.13275991024682124|       10|\n",
      "| 36836|       2529|        0|  0.4804270462633452|       10|\n",
      "| 52584|       2512|        0|  0.4773089171974522|       10|\n",
      "|245963|       2507|        0| 0.14080574391703232|       10|\n",
      "|204864|       2504|        0|  1.7807507987220448|       10|\n",
      "| 55492|       2459|        0| 0.37210248068320456|       10|\n",
      "|185233|       2448|        0|  1.5249183006535947|       10|\n",
      "|171118|       2421|        0|   3.147046674927716|       10|\n",
      "+------+-----------+---------+--------------------+---------+\n",
      "only showing top 20 rows\n",
      "\n"
     ]
    }
   ],
   "source": [
    "dataset_rating.groupby('UserID').agg(\n",
    "    functions.count('Rating').alias('RatingCount'),\n",
    "    functions.min('Rating').alias('RatingMin'),\n",
    "    functions.avg('Rating').alias('RatingMean'),\n",
    "    functions.max('Rating').alias('RatingMax')\n",
    ").sort('RatingCount', ascending=False).show()"
   ],
   "metadata": {
    "collapsed": false,
    "pycharm": {
     "name": "#%%\n"
    }
   }
  },
  {
   "cell_type": "code",
   "execution_count": 34,
   "outputs": [
    {
     "name": "stdout",
     "output_type": "stream",
     "text": [
      "+------+----------+------+\n",
      "|UserID|    BookID|Rating|\n",
      "+------+----------+------+\n",
      "| 11676|0000000000|     9|\n",
      "| 11676|0001055666|     9|\n",
      "| 11676|0002118580|     9|\n",
      "| 11676|000225929X|    10|\n",
      "| 11676|0006481213|    10|\n",
      "| 11676|0006490344|    10|\n",
      "| 11676|0006496946|     9|\n",
      "| 11676|0006498493|    10|\n",
      "| 11676|0006510906|     9|\n",
      "| 11676|0006512046|    10|\n",
      "| 11676|0006512208|     9|\n",
      "| 11676|0006513204|     9|\n",
      "| 11676|000655220X|     9|\n",
      "| 11676|0007107900|     9|\n",
      "| 11676|0020518501|     9|\n",
      "| 11676|0028625757|    10|\n",
      "| 11676|0060005424|    10|\n",
      "| 11676|0060007788|     9|\n",
      "| 11676|0060008369|     9|\n",
      "| 11676|0060083263|    10|\n",
      "+------+----------+------+\n",
      "only showing top 20 rows\n",
      "\n"
     ]
    }
   ],
   "source": [
    "dataset_rating.filter(\n",
    "    (dataset_rating.UserID == 11676) &\n",
    "    (dataset_rating.Rating > 8)\n",
    ").show()"
   ],
   "metadata": {
    "collapsed": false,
    "pycharm": {
     "name": "#%%\n"
    }
   }
  },
  {
   "cell_type": "code",
   "execution_count": 35,
   "outputs": [
    {
     "name": "stderr",
     "output_type": "stream",
     "text": [
      "[Stage 46:=======>                                                  (1 + 7) / 8]\r"
     ]
    },
    {
     "name": "stdout",
     "output_type": "stream",
     "text": [
      "+----------+-----------+---------+------------------+---------+\n",
      "|    BookID|RatingCount|RatingMin|        RatingMean|RatingMax|\n",
      "+----------+-----------+---------+------------------+---------+\n",
      "|0971880107|       2502|        0|1.0195843325339728|       10|\n",
      "|0316666343|       1295|        0| 4.468725868725869|       10|\n",
      "|0385504209|        883|        0| 4.652321630804077|       10|\n",
      "|0060928336|        732|        0| 3.448087431693989|       10|\n",
      "|0312195516|        723|        0| 4.334716459197787|       10|\n",
      "|044023722X|        647|        0| 3.187017001545595|       10|\n",
      "|0679781587|        639|        0| 4.381846635367762|       10|\n",
      "|0142001740|        615|        0| 4.219512195121951|       10|\n",
      "|067976402X|        614|        0| 3.255700325732899|       10|\n",
      "|0671027360|        586|        0| 3.718430034129693|       10|\n",
      "|0446672211|        585|        0| 4.105982905982906|       10|\n",
      "|059035342X|        571|        0| 4.900175131348512|       10|\n",
      "|0316601950|        568|        0|3.5933098591549295|       10|\n",
      "|0375727345|        552|        0| 3.039855072463768|       10|\n",
      "|044021145X|        529|        0|3.0756143667296785|       10|\n",
      "|0452282152|        526|        0| 4.218631178707224|       10|\n",
      "|0440214041|        523|        0|2.5239005736137665|       10|\n",
      "|0804106304|        519|        0|3.0635838150289016|       10|\n",
      "|0440211727|        517|        0|  2.97678916827853|       10|\n",
      "|0345337662|        506|        0| 3.535573122529644|       10|\n",
      "+----------+-----------+---------+------------------+---------+\n",
      "only showing top 20 rows\n",
      "\n"
     ]
    },
    {
     "name": "stderr",
     "output_type": "stream",
     "text": [
      "                                                                                \r"
     ]
    }
   ],
   "source": [
    "dataset_rating.groupby('BookID').agg(\n",
    "    functions.count('Rating').alias('RatingCount'),\n",
    "    functions.min('Rating').alias('RatingMin'),\n",
    "    functions.avg('Rating').alias('RatingMean'),\n",
    "    functions.max('Rating').alias('RatingMax')\n",
    ").sort('RatingCount', ascending=False).show()\n"
   ],
   "metadata": {
    "collapsed": false,
    "pycharm": {
     "name": "#%%\n"
    }
   }
  },
  {
   "cell_type": "code",
   "execution_count": 36,
   "outputs": [
    {
     "name": "stdout",
     "output_type": "stream",
     "text": [
      "+----------+--------------------------------------------------------------------------------------------------+--------------------+-------------------+---------------------------+------------------------------------------------------------+------------------------------------------------------------+------------------------------------------------------------+\n",
      "|ISBN      |Book-Title                                                                                        |Book-Author         |Year-Of-Publication|Publisher                  |Image-URL-S                                                 |Image-URL-M                                                 |Image-URL-L                                                 |\n",
      "+----------+--------------------------------------------------------------------------------------------------+--------------------+-------------------+---------------------------+------------------------------------------------------------+------------------------------------------------------------+------------------------------------------------------------+\n",
      "|0195153448|Classical Mythology                                                                               |Mark P. O. Morford  |2002               |Oxford University Press    |http://images.amazon.com/images/P/0195153448.01.THUMBZZZ.jpg|http://images.amazon.com/images/P/0195153448.01.MZZZZZZZ.jpg|http://images.amazon.com/images/P/0195153448.01.LZZZZZZZ.jpg|\n",
      "|0002005018|Clara Callan                                                                                      |Richard Bruce Wright|2001               |HarperFlamingo Canada      |http://images.amazon.com/images/P/0002005018.01.THUMBZZZ.jpg|http://images.amazon.com/images/P/0002005018.01.MZZZZZZZ.jpg|http://images.amazon.com/images/P/0002005018.01.LZZZZZZZ.jpg|\n",
      "|0060973129|Decision in Normandy                                                                              |Carlo D'Este        |1991               |HarperPerennial            |http://images.amazon.com/images/P/0060973129.01.THUMBZZZ.jpg|http://images.amazon.com/images/P/0060973129.01.MZZZZZZZ.jpg|http://images.amazon.com/images/P/0060973129.01.LZZZZZZZ.jpg|\n",
      "|0374157065|Flu: The Story of the Great Influenza Pandemic of 1918 and the Search for the Virus That Caused It|Gina Bari Kolata    |1999               |Farrar Straus Giroux       |http://images.amazon.com/images/P/0374157065.01.THUMBZZZ.jpg|http://images.amazon.com/images/P/0374157065.01.MZZZZZZZ.jpg|http://images.amazon.com/images/P/0374157065.01.LZZZZZZZ.jpg|\n",
      "|0393045218|The Mummies of Urumchi                                                                            |E. J. W. Barber     |1999               |W. W. Norton & Company     |http://images.amazon.com/images/P/0393045218.01.THUMBZZZ.jpg|http://images.amazon.com/images/P/0393045218.01.MZZZZZZZ.jpg|http://images.amazon.com/images/P/0393045218.01.LZZZZZZZ.jpg|\n",
      "|0399135782|The Kitchen God's Wife                                                                            |Amy Tan             |1991               |Putnam Pub Group           |http://images.amazon.com/images/P/0399135782.01.THUMBZZZ.jpg|http://images.amazon.com/images/P/0399135782.01.MZZZZZZZ.jpg|http://images.amazon.com/images/P/0399135782.01.LZZZZZZZ.jpg|\n",
      "|0425176428|What If?: The World's Foremost Military Historians Imagine What Might Have Been                   |Robert Cowley       |2000               |Berkley Publishing Group   |http://images.amazon.com/images/P/0425176428.01.THUMBZZZ.jpg|http://images.amazon.com/images/P/0425176428.01.MZZZZZZZ.jpg|http://images.amazon.com/images/P/0425176428.01.LZZZZZZZ.jpg|\n",
      "|0671870432|PLEADING GUILTY                                                                                   |Scott Turow         |1993               |Audioworks                 |http://images.amazon.com/images/P/0671870432.01.THUMBZZZ.jpg|http://images.amazon.com/images/P/0671870432.01.MZZZZZZZ.jpg|http://images.amazon.com/images/P/0671870432.01.LZZZZZZZ.jpg|\n",
      "|0679425608|Under the Black Flag: The Romance and the Reality of Life Among the Pirates                       |David Cordingly     |1996               |Random House               |http://images.amazon.com/images/P/0679425608.01.THUMBZZZ.jpg|http://images.amazon.com/images/P/0679425608.01.MZZZZZZZ.jpg|http://images.amazon.com/images/P/0679425608.01.LZZZZZZZ.jpg|\n",
      "|074322678X|Where You'll Find Me: And Other Stories                                                           |Ann Beattie         |2002               |Scribner                   |http://images.amazon.com/images/P/074322678X.01.THUMBZZZ.jpg|http://images.amazon.com/images/P/074322678X.01.MZZZZZZZ.jpg|http://images.amazon.com/images/P/074322678X.01.LZZZZZZZ.jpg|\n",
      "|0771074670|Nights Below Station Street                                                                       |David Adams Richards|1988               |Emblem Editions            |http://images.amazon.com/images/P/0771074670.01.THUMBZZZ.jpg|http://images.amazon.com/images/P/0771074670.01.MZZZZZZZ.jpg|http://images.amazon.com/images/P/0771074670.01.LZZZZZZZ.jpg|\n",
      "|080652121X|Hitler's Secret Bankers: The Myth of Swiss Neutrality During the Holocaust                        |Adam Lebor          |2000               |Citadel Press              |http://images.amazon.com/images/P/080652121X.01.THUMBZZZ.jpg|http://images.amazon.com/images/P/080652121X.01.MZZZZZZZ.jpg|http://images.amazon.com/images/P/080652121X.01.LZZZZZZZ.jpg|\n",
      "|0887841740|The Middle Stories                                                                                |Sheila Heti         |2004               |House of Anansi Press      |http://images.amazon.com/images/P/0887841740.01.THUMBZZZ.jpg|http://images.amazon.com/images/P/0887841740.01.MZZZZZZZ.jpg|http://images.amazon.com/images/P/0887841740.01.LZZZZZZZ.jpg|\n",
      "|1552041778|Jane Doe                                                                                          |R. J. Kaiser        |1999               |Mira Books                 |http://images.amazon.com/images/P/1552041778.01.THUMBZZZ.jpg|http://images.amazon.com/images/P/1552041778.01.MZZZZZZZ.jpg|http://images.amazon.com/images/P/1552041778.01.LZZZZZZZ.jpg|\n",
      "|1558746218|A Second Chicken Soup for the Woman's Soul (Chicken Soup for the Soul Series)                     |Jack Canfield       |1998               |Health Communications      |http://images.amazon.com/images/P/1558746218.01.THUMBZZZ.jpg|http://images.amazon.com/images/P/1558746218.01.MZZZZZZZ.jpg|http://images.amazon.com/images/P/1558746218.01.LZZZZZZZ.jpg|\n",
      "|1567407781|The Witchfinder (Amos Walker Mystery Series)                                                      |Loren D. Estleman   |1998               |Brilliance Audio - Trade   |http://images.amazon.com/images/P/1567407781.01.THUMBZZZ.jpg|http://images.amazon.com/images/P/1567407781.01.MZZZZZZZ.jpg|http://images.amazon.com/images/P/1567407781.01.LZZZZZZZ.jpg|\n",
      "|1575663937|More Cunning Than Man: A Social History of Rats and Man                                           |Robert Hendrickson  |1999               |Kensington Publishing Corp.|http://images.amazon.com/images/P/1575663937.01.THUMBZZZ.jpg|http://images.amazon.com/images/P/1575663937.01.MZZZZZZZ.jpg|http://images.amazon.com/images/P/1575663937.01.LZZZZZZZ.jpg|\n",
      "|1881320189|Goodbye to the Buttermilk Sky                                                                     |Julia Oliver        |1994               |River City Pub             |http://images.amazon.com/images/P/1881320189.01.THUMBZZZ.jpg|http://images.amazon.com/images/P/1881320189.01.MZZZZZZZ.jpg|http://images.amazon.com/images/P/1881320189.01.LZZZZZZZ.jpg|\n",
      "|0440234743|The Testament                                                                                     |John Grisham        |1999               |Dell                       |http://images.amazon.com/images/P/0440234743.01.THUMBZZZ.jpg|http://images.amazon.com/images/P/0440234743.01.MZZZZZZZ.jpg|http://images.amazon.com/images/P/0440234743.01.LZZZZZZZ.jpg|\n",
      "|0452264464|Beloved (Plume Contemporary Fiction)                                                              |Toni Morrison       |1994               |Plume                      |http://images.amazon.com/images/P/0452264464.01.THUMBZZZ.jpg|http://images.amazon.com/images/P/0452264464.01.MZZZZZZZ.jpg|http://images.amazon.com/images/P/0452264464.01.LZZZZZZZ.jpg|\n",
      "+----------+--------------------------------------------------------------------------------------------------+--------------------+-------------------+---------------------------+------------------------------------------------------------+------------------------------------------------------------+------------------------------------------------------------+\n",
      "only showing top 20 rows\n",
      "\n"
     ]
    }
   ],
   "source": [
    "dataset_books.show(truncate=False)"
   ],
   "metadata": {
    "collapsed": false,
    "pycharm": {
     "name": "#%%\n"
    }
   }
  },
  {
   "cell_type": "code",
   "execution_count": 37,
   "outputs": [
    {
     "name": "stdout",
     "output_type": "stream",
     "text": [
      "+----------+--------------------+--------------------+----+--------------------+--------------------+--------------------+--------------------+\n",
      "|    BookID|               Title|              Author|Year|           Publisher|         Image-URL-S|         Image-URL-M|         Image-URL-L|\n",
      "+----------+--------------------+--------------------+----+--------------------+--------------------+--------------------+--------------------+\n",
      "|0140288694|       The Shark Net|        Robert Drewe|   0|   Penguin Books Ltd|http://images.ama...|http://images.ama...|http://images.ama...|\n",
      "|0752825259|     War of the Rats|       David Robbins|   0|               Orion|http://images.ama...|http://images.ama...|http://images.ama...|\n",
      "|B00008WFXL|   The Da Vinci Code|           Dan Brown|   0|           Doubleday|http://images.ama...|http://images.ama...|http://images.ama...|\n",
      "|9723605465|Nos Matamos O Cao...|Luis Bernard Honwana|   0|Edicoes Afrontamento|http://images.ama...|http://images.ama...|http://images.ama...|\n",
      "|0553112562|             Haywire|      Brooke Hayward|   0|Bantam Doubleday ...|http://images.ama...|http://images.ama...|http://images.ama...|\n",
      "|0330344730|        Perfect Love|    Elizabeth Buchan|   0|       Pan Books Ltd|http://images.ama...|http://images.ama...|http://images.ama...|\n",
      "|0718114418|Here At the New Y...|        Brendan Gill|   0|Penguin Putnam~trade|http://images.ama...|http://images.ama...|http://images.ama...|\n",
      "|014131334X|            The Dons|   Archimede Fusillo|   0|Penguin Books Aus...|http://images.ama...|http://images.ama...|http://images.ama...|\n",
      "|8804314826|   Coscienza Di Zeno|         Italo Svevo|   0|       Oscar Italian|http://images.ama...|http://images.ama...|http://images.ama...|\n",
      "|3596123402|Mitunter Sogar La...|               Fried|   0|Fischer Taschenbu...|http://images.ama...|http://images.ama...|http://images.ama...|\n",
      "|057114571X|         High Ground|       John Mcgahern|   0|     Faber Faber Inc|http://images.ama...|http://images.ama...|http://images.ama...|\n",
      "|1898784930|  The Christmas Mice|    Caroline Repchuk|   0|  Templar Publishing|http://images.ama...|http://images.ama...|http://images.ama...|\n",
      "|0948491345|Who's Having Your...|Beverley Lawrence...|   0|        Camden Press|http://images.ama...|http://images.ama...|http://images.ama...|\n",
      "|1861065515|Nine Lives of Min...|Minnie Winder Wil...|   0|       Minerva Press|http://images.ama...|http://images.ama...|http://images.ama...|\n",
      "|0826930425|Welding Skills an...|        J W Giachino|   0|American Technica...|http://images.ama...|http://images.ama...|http://images.ama...|\n",
      "|2277300063|   La Neige En Deuil|        Henri Troyat|   0|       Jai Lu French|http://images.ama...|http://images.ama...|http://images.ama...|\n",
      "|000654679X|     Remembrance Day|        Brian Aldiss|   0|            Flamingo|http://images.ama...|http://images.ama...|http://images.ama...|\n",
      "|0553063030|Jubal Sackett Lou...|        Louis Lamour|   0|Bantam Doubleday ...|http://images.ama...|http://images.ama...|http://images.ama...|\n",
      "|071347114X|Nigel Short World...|       Raymond Keene|   0|  Rowman Littlefield|http://images.ama...|http://images.ama...|http://images.ama...|\n",
      "|0099445328|  Faint Cold Fear, a|         K Slaughter|   0|Arrow (A Division...|http://images.ama...|http://images.ama...|http://images.ama...|\n",
      "+----------+--------------------+--------------------+----+--------------------+--------------------+--------------------+--------------------+\n",
      "only showing top 20 rows\n",
      "\n"
     ]
    }
   ],
   "source": [
    "dataset_books = dataset_books\\\n",
    "    .withColumnRenamed('ISBN', 'BookID')\\\n",
    "    .withColumnRenamed('Book-Title', 'Title')\\\n",
    "    .withColumnRenamed('Book-Author', 'Author')\\\n",
    "    .withColumnRenamed('Year-Of-Publication', 'Year')\\\n",
    "    .sort('Year')\n",
    "\n",
    "dataset_books.show()"
   ],
   "metadata": {
    "collapsed": false,
    "pycharm": {
     "name": "#%%\n"
    }
   }
  },
  {
   "cell_type": "code",
   "execution_count": 38,
   "outputs": [
    {
     "name": "stderr",
     "output_type": "stream",
     "text": [
      "[Stage 51:=================>                                    (66 + 10) / 200]\r"
     ]
    },
    {
     "name": "stdout",
     "output_type": "stream",
     "text": [
      "+---------------------+-----+\n",
      "|Author               |count|\n",
      "+---------------------+-----+\n",
      "|Agatha Christie      |632  |\n",
      "|William Shakespeare  |567  |\n",
      "|Stephen King         |524  |\n",
      "|Ann M. Martin        |423  |\n",
      "|Carolyn Keene        |373  |\n",
      "|Francine Pascal      |373  |\n",
      "|Isaac Asimov         |330  |\n",
      "|Nora Roberts         |315  |\n",
      "|Barbara Cartland     |307  |\n",
      "|Charles Dickens      |302  |\n",
      "|Not Applicable (Na ) |286  |\n",
      "|R. L. Stine          |282  |\n",
      "|Mark Twain           |231  |\n",
      "|Jane Austen          |223  |\n",
      "|Terry Pratchett      |220  |\n",
      "|Mary Higgins Clark   |218  |\n",
      "|Piers Anthony        |217  |\n",
      "|Marion Zimmer Bradley|216  |\n",
      "|Janet Dailey         |214  |\n",
      "|Franklin W. Dixon    |204  |\n",
      "+---------------------+-----+\n",
      "only showing top 20 rows\n",
      "\n"
     ]
    },
    {
     "name": "stderr",
     "output_type": "stream",
     "text": [
      "                                                                                \r"
     ]
    }
   ],
   "source": [
    "dataset_books.groupby('Author')\\\n",
    "    .count()\\\n",
    "    .sort('count', ascending=False)\\\n",
    "    .show(truncate=False)"
   ],
   "metadata": {
    "collapsed": false,
    "pycharm": {
     "name": "#%%\n"
    }
   }
  },
  {
   "cell_type": "code",
   "execution_count": 39,
   "outputs": [
    {
     "name": "stdout",
     "output_type": "stream",
     "text": [
      "+----+-----+\n",
      "|Year|count|\n",
      "+----+-----+\n",
      "|2050|2    |\n",
      "|2038|1    |\n",
      "|2037|1    |\n",
      "|2030|7    |\n",
      "|2026|1    |\n",
      "|2024|1    |\n",
      "|2021|1    |\n",
      "|2020|3    |\n",
      "|2012|1    |\n",
      "|2011|2    |\n",
      "|2010|2    |\n",
      "|2008|1    |\n",
      "|2006|3    |\n",
      "|2005|46   |\n",
      "|2004|5839 |\n",
      "|2003|14359|\n",
      "|2002|17628|\n",
      "|2001|17360|\n",
      "|2000|17235|\n",
      "|1999|17432|\n",
      "+----+-----+\n",
      "only showing top 20 rows\n",
      "\n"
     ]
    }
   ],
   "source": [
    "dataset_books.groupby('Year')\\\n",
    "    .count()\\\n",
    "    .sort('Year', ascending=False)\\\n",
    "    .show(truncate=False)"
   ],
   "metadata": {
    "collapsed": false,
    "pycharm": {
     "name": "#%%\n"
    }
   }
  },
  {
   "cell_type": "code",
   "execution_count": 40,
   "outputs": [
    {
     "name": "stdout",
     "output_type": "stream",
     "text": [
      "+----+-----+\n",
      "|Year|count|\n",
      "+----+-----+\n",
      "|0   |4619 |\n",
      "|1376|1    |\n",
      "|1378|1    |\n",
      "|1806|1    |\n",
      "|1897|1    |\n",
      "|1900|3    |\n",
      "|1901|7    |\n",
      "|1902|2    |\n",
      "|1904|1    |\n",
      "|1906|1    |\n",
      "|1908|1    |\n",
      "|1909|2    |\n",
      "|1910|1    |\n",
      "|1911|19   |\n",
      "|1914|1    |\n",
      "|1917|1    |\n",
      "|1919|1    |\n",
      "|1920|33   |\n",
      "|1921|2    |\n",
      "|1922|2    |\n",
      "+----+-----+\n",
      "only showing top 20 rows\n",
      "\n"
     ]
    }
   ],
   "source": [
    "dataset_books.groupby('Year')\\\n",
    "    .count()\\\n",
    "    .sort('Year', ascending=True)\\\n",
    "    .show(truncate=False)"
   ],
   "metadata": {
    "collapsed": false,
    "pycharm": {
     "name": "#%%\n"
    }
   }
  },
  {
   "cell_type": "code",
   "execution_count": 41,
   "outputs": [
    {
     "name": "stdout",
     "output_type": "stream",
     "text": [
      "+----------+-------------------------------------------------------------------------------------------------+--------------------+----+-----------------------+------------------------------------------------------------+------------------------------------------------------------+------------------------------------------------------------+\n",
      "|BookID    |Title                                                                                            |Author              |Year|Publisher              |Image-URL-S                                                 |Image-URL-M                                                 |Image-URL-L                                                 |\n",
      "+----------+-------------------------------------------------------------------------------------------------+--------------------+----+-----------------------+------------------------------------------------------------+------------------------------------------------------------+------------------------------------------------------------+\n",
      "|0385075340|Critique of Pure Reason                                                                          |Kant                |1929|Bantam Dell Pub Group  |http://images.amazon.com/images/P/0385075340.01.THUMBZZZ.jpg|http://images.amazon.com/images/P/0385075340.01.MZZZZZZZ.jpg|http://images.amazon.com/images/P/0385075340.01.LZZZZZZZ.jpg|\n",
      "|0448089084|Mystery of Cabin Island (Hardy Boys (Hardcover))                                                 |Franklin W. Dixon   |1929|Grosset & Dunlap       |http://images.amazon.com/images/P/0448089084.01.THUMBZZZ.jpg|http://images.amazon.com/images/P/0448089084.01.MZZZZZZZ.jpg|http://images.amazon.com/images/P/0448089084.01.LZZZZZZZ.jpg|\n",
      "|073943828X|Murder at the Manor (Mystery Guild Lost Classics Omnibus, 1st Edition)                           |Agatha Christie     |1929|Dodd Mead & Company    |http://images.amazon.com/images/P/073943828X.01.THUMBZZZ.jpg|http://images.amazon.com/images/P/073943828X.01.MZZZZZZZ.jpg|http://images.amazon.com/images/P/073943828X.01.LZZZZZZZ.jpg|\n",
      "|0395083834|Laughing Boy                                                                                     |Oliver LA Farge     |1929|Houghton Mifflin       |http://images.amazon.com/images/P/0395083834.01.THUMBZZZ.jpg|http://images.amazon.com/images/P/0395083834.01.MZZZZZZZ.jpg|http://images.amazon.com/images/P/0395083834.01.LZZZZZZZ.jpg|\n",
      "|0684717972|Farewell to Arms                                                                                 |Ernest Hemingway    |1929|Charles Scribner's Sons|http://images.amazon.com/images/P/0684717972.01.THUMBZZZ.jpg|http://images.amazon.com/images/P/0684717972.01.MZZZZZZZ.jpg|http://images.amazon.com/images/P/0684717972.01.LZZZZZZZ.jpg|\n",
      "|0316739928|All Quiet on the Western Front                                                                   |Erich Marie Remarque|1929|Little, Brown          |http://images.amazon.com/images/P/0316739928.01.THUMBZZZ.jpg|http://images.amazon.com/images/P/0316739928.01.MZZZZZZZ.jpg|http://images.amazon.com/images/P/0316739928.01.LZZZZZZZ.jpg|\n",
      "|0448089076|Secret of the Caves (Hardy Boys (Hardcover))                                                     |Franklin W. Dixon   |1929|Grosset & Dunlap       |http://images.amazon.com/images/P/0448089076.01.THUMBZZZ.jpg|http://images.amazon.com/images/P/0448089076.01.MZZZZZZZ.jpg|http://images.amazon.com/images/P/0448089076.01.LZZZZZZZ.jpg|\n",
      "|9997520858|Beau Ideal                                                                                       |Percival C. Wren    |1928|Stokes Pub Co          |http://images.amazon.com/images/P/9997520858.01.THUMBZZZ.jpg|http://images.amazon.com/images/P/9997520858.01.MZZZZZZZ.jpg|http://images.amazon.com/images/P/9997520858.01.LZZZZZZZ.jpg|\n",
      "|0060830484|Point Counter Point                                                                              |Aldous Huxley       |1928|Harpercollins          |http://images.amazon.com/images/P/0060830484.01.THUMBZZZ.jpg|http://images.amazon.com/images/P/0060830484.01.MZZZZZZZ.jpg|http://images.amazon.com/images/P/0060830484.01.LZZZZZZZ.jpg|\n",
      "|0875163645|Life and Teaching of the Masters of the Far East (Life & Teaching of the Masters of the Far East)|Baird Spalding      |1927|DeVorss & Company      |http://images.amazon.com/images/P/0875163645.01.THUMBZZZ.jpg|http://images.amazon.com/images/P/0875163645.01.MZZZZZZZ.jpg|http://images.amazon.com/images/P/0875163645.01.LZZZZZZZ.jpg|\n",
      "|0448089033|The Secret of the Old Mill (The Hardy Boys Mystery Stories, Book 3)                              |Franklin W. Dixon   |1927|Grosset & Dunlap       |http://images.amazon.com/images/P/0448089033.01.THUMBZZZ.jpg|http://images.amazon.com/images/P/0448089033.01.MZZZZZZZ.jpg|http://images.amazon.com/images/P/0448089033.01.LZZZZZZZ.jpg|\n",
      "|0460008005|Holinshed's Chronicle                                                                            |Raphael Holinshed   |1926|J m Dent & Sons Ltd    |http://images.amazon.com/images/P/0460008005.01.THUMBZZZ.jpg|http://images.amazon.com/images/P/0460008005.01.MZZZZZZZ.jpg|http://images.amazon.com/images/P/0460008005.01.LZZZZZZZ.jpg|\n",
      "|0684718081|The Sun Also Rises                                                                               |Ernest Hemingway    |1926|Scribner Book Company  |http://images.amazon.com/images/P/0684718081.01.THUMBZZZ.jpg|http://images.amazon.com/images/P/0684718081.01.MZZZZZZZ.jpg|http://images.amazon.com/images/P/0684718081.01.LZZZZZZZ.jpg|\n",
      "|0023381205|Great Gatsby, The                                                                                |F. Scott Fitzgerald |1925|Prentice Hall          |http://images.amazon.com/images/P/0023381205.01.THUMBZZZ.jpg|http://images.amazon.com/images/P/0023381205.01.MZZZZZZZ.jpg|http://images.amazon.com/images/P/0023381205.01.LZZZZZZZ.jpg|\n",
      "|0140185992|The Painted Veil (Penguin Twentieth Century Classics)                                            |W. Somerset Maugham |1925|Penguin Books          |http://images.amazon.com/images/P/0140185992.01.THUMBZZZ.jpg|http://images.amazon.com/images/P/0140185992.01.MZZZZZZZ.jpg|http://images.amazon.com/images/P/0140185992.01.LZZZZZZZ.jpg|\n",
      "|0385075138|Tales from Silver Lands                                                                          |Charles J. Finger   |1924|Doubleday Books        |http://images.amazon.com/images/P/0385075138.01.THUMBZZZ.jpg|http://images.amazon.com/images/P/0385075138.01.MZZZZZZZ.jpg|http://images.amazon.com/images/P/0385075138.01.LZZZZZZZ.jpg|\n",
      "|0486600815|Principle of Relativity (Dover Books on Physics)                                                 |Albert Einstein     |1924|Dover Publications     |http://images.amazon.com/images/P/0486600815.01.THUMBZZZ.jpg|http://images.amazon.com/images/P/0486600815.01.MZZZZZZZ.jpg|http://images.amazon.com/images/P/0486600815.01.LZZZZZZZ.jpg|\n",
      "|0385286465|Mind as Healer, Mind as Slayer: A Holistic Approach to Preventing Stress Disorders               |Steven E. Locke     |1923|Delta                  |http://images.amazon.com/images/P/0385286465.01.THUMBZZZ.jpg|http://images.amazon.com/images/P/0385286465.01.MZZZZZZZ.jpg|http://images.amazon.com/images/P/0385286465.01.LZZZZZZZ.jpg|\n",
      "|0440784336|SUPERFUDGE                                                                                       |JUDY BLUME          |1923|Yearling               |http://images.amazon.com/images/P/0440784336.01.THUMBZZZ.jpg|http://images.amazon.com/images/P/0440784336.01.MZZZZZZZ.jpg|http://images.amazon.com/images/P/0440784336.01.LZZZZZZZ.jpg|\n",
      "|0440775191|Runaway Ralph                                                                                    |Cleary              |1923|Bantam Doubleday Dell  |http://images.amazon.com/images/P/0440775191.01.THUMBZZZ.jpg|http://images.amazon.com/images/P/0440775191.01.MZZZZZZZ.jpg|http://images.amazon.com/images/P/0440775191.01.LZZZZZZZ.jpg|\n",
      "+----------+-------------------------------------------------------------------------------------------------+--------------------+----+-----------------------+------------------------------------------------------------+------------------------------------------------------------+------------------------------------------------------------+\n",
      "only showing top 20 rows\n",
      "\n"
     ]
    }
   ],
   "source": [
    "dataset_books.filter(dataset_books.Year < 1930).sort('Year', ascending=False).show(truncate=False)"
   ],
   "metadata": {
    "collapsed": false,
    "pycharm": {
     "name": "#%%\n"
    }
   }
  },
  {
   "cell_type": "code",
   "execution_count": 42,
   "outputs": [
    {
     "name": "stdout",
     "output_type": "stream",
     "text": [
      "+----------+--------------------+--------------------+----+--------------------+--------------------+--------------------+--------------------+\n",
      "|    BookID|               Title|              Author|Year|           Publisher|         Image-URL-S|         Image-URL-M|         Image-URL-L|\n",
      "+----------+--------------------+--------------------+----+--------------------+--------------------+--------------------+--------------------+\n",
      "|0140288694|       The Shark Net|        Robert Drewe|   0|   Penguin Books Ltd|http://images.ama...|http://images.ama...|http://images.ama...|\n",
      "|0752825259|     War of the Rats|       David Robbins|   0|               Orion|http://images.ama...|http://images.ama...|http://images.ama...|\n",
      "|B00008WFXL|   The Da Vinci Code|           Dan Brown|   0|           Doubleday|http://images.ama...|http://images.ama...|http://images.ama...|\n",
      "|9723605465|Nos Matamos O Cao...|Luis Bernard Honwana|   0|Edicoes Afrontamento|http://images.ama...|http://images.ama...|http://images.ama...|\n",
      "|0553112562|             Haywire|      Brooke Hayward|   0|Bantam Doubleday ...|http://images.ama...|http://images.ama...|http://images.ama...|\n",
      "|2277300063|   La Neige En Deuil|        Henri Troyat|   0|       Jai Lu French|http://images.ama...|http://images.ama...|http://images.ama...|\n",
      "|0718114418|Here At the New Y...|        Brendan Gill|   0|Penguin Putnam~trade|http://images.ama...|http://images.ama...|http://images.ama...|\n",
      "|0670821705|Moved and the Shaken|          Ken Dryden|   0|Penguin Putnam~ch...|http://images.ama...|http://images.ama...|http://images.ama...|\n",
      "|8804314826|   Coscienza Di Zeno|         Italo Svevo|   0|       Oscar Italian|http://images.ama...|http://images.ama...|http://images.ama...|\n",
      "|3596123402|Mitunter Sogar La...|               Fried|   0|Fischer Taschenbu...|http://images.ama...|http://images.ama...|http://images.ama...|\n",
      "|057114571X|         High Ground|       John Mcgahern|   0|     Faber Faber Inc|http://images.ama...|http://images.ama...|http://images.ama...|\n",
      "|1898784930|  The Christmas Mice|    Caroline Repchuk|   0|  Templar Publishing|http://images.ama...|http://images.ama...|http://images.ama...|\n",
      "|0948491345|Who's Having Your...|Beverley Lawrence...|   0|        Camden Press|http://images.ama...|http://images.ama...|http://images.ama...|\n",
      "|1861065515|Nine Lives of Min...|Minnie Winder Wil...|   0|       Minerva Press|http://images.ama...|http://images.ama...|http://images.ama...|\n",
      "|0826930425|Welding Skills an...|        J W Giachino|   0|American Technica...|http://images.ama...|http://images.ama...|http://images.ama...|\n",
      "|055299491X|       Camomile Lawn|         Mary Wesley|   0|Bantam Doubleday ...|http://images.ama...|http://images.ama...|http://images.ama...|\n",
      "|000654679X|     Remembrance Day|        Brian Aldiss|   0|            Flamingo|http://images.ama...|http://images.ama...|http://images.ama...|\n",
      "|071347114X|Nigel Short World...|       Raymond Keene|   0|  Rowman Littlefield|http://images.ama...|http://images.ama...|http://images.ama...|\n",
      "|0330359819|    Edge of the Rain|     Beverley Harper|   0|Pan Macmillan Aus...|http://images.ama...|http://images.ama...|http://images.ama...|\n",
      "|0553146076|Steel of Raithska...|     Randall Garrett|   0|Bantam Doubleday ...|http://images.ama...|http://images.ama...|http://images.ama...|\n",
      "+----------+--------------------+--------------------+----+--------------------+--------------------+--------------------+--------------------+\n",
      "only showing top 20 rows\n",
      "\n"
     ]
    }
   ],
   "source": [
    "dataset_books = dataset_books.filter(\n",
    "    (dataset_books.Year < 2004)\n",
    ")\n",
    "dataset_books.show()"
   ],
   "metadata": {
    "collapsed": false,
    "pycharm": {
     "name": "#%%\n"
    }
   }
  },
  {
   "cell_type": "code",
   "execution_count": 43,
   "outputs": [
    {
     "name": "stdout",
     "output_type": "stream",
     "text": [
      "+----+-----+\n",
      "|Year|count|\n",
      "+----+-----+\n",
      "|0   |4619 |\n",
      "|1376|1    |\n",
      "|1378|1    |\n",
      "|1806|1    |\n",
      "|1897|1    |\n",
      "|1900|3    |\n",
      "|1901|7    |\n",
      "|1902|2    |\n",
      "|1904|1    |\n",
      "|1906|1    |\n",
      "+----+-----+\n",
      "only showing top 10 rows\n",
      "\n"
     ]
    }
   ],
   "source": [
    "dataset_books.groupby('Year')\\\n",
    "    .count()\\\n",
    "    .sort('Year', ascending=True)\\\n",
    "    .show(10, truncate=False)"
   ],
   "metadata": {
    "collapsed": false,
    "pycharm": {
     "name": "#%%\n"
    }
   }
  },
  {
   "cell_type": "code",
   "execution_count": 44,
   "outputs": [
    {
     "name": "stdout",
     "output_type": "stream",
     "text": [
      "+----------+--------------------------------------------------------------------+-----------------------+----+-------------------------------+------------------------------------------------------------+------------------------------------------------------------+------------------------------------------------------------+\n",
      "|BookID    |Title                                                               |Author                 |Year|Publisher                      |Image-URL-S                                                 |Image-URL-M                                                 |Image-URL-L                                                 |\n",
      "+----------+--------------------------------------------------------------------+-----------------------+----+-------------------------------+------------------------------------------------------------+------------------------------------------------------------+------------------------------------------------------------+\n",
      "|0140288694|The Shark Net                                                       |Robert Drewe           |0   |Penguin Books Ltd              |http://images.amazon.com/images/P/0140288694.01.THUMBZZZ.jpg|http://images.amazon.com/images/P/0140288694.01.MZZZZZZZ.jpg|http://images.amazon.com/images/P/0140288694.01.LZZZZZZZ.jpg|\n",
      "|0752825259|War of the Rats                                                     |David Robbins          |0   |Orion                          |http://images.amazon.com/images/P/0752825259.01.THUMBZZZ.jpg|http://images.amazon.com/images/P/0752825259.01.MZZZZZZZ.jpg|http://images.amazon.com/images/P/0752825259.01.LZZZZZZZ.jpg|\n",
      "|B00008WFXL|The Da Vinci Code                                                   |Dan Brown              |0   |Doubleday                      |http://images.amazon.com/images/P/B00008WFXL.01.THUMBZZZ.jpg|http://images.amazon.com/images/P/B00008WFXL.01.MZZZZZZZ.jpg|http://images.amazon.com/images/P/B00008WFXL.01.LZZZZZZZ.jpg|\n",
      "|9723605465|Nos Matamos O Cao Tinhoso                                           |Luis Bernard Honwana   |0   |Edicoes Afrontamento           |http://images.amazon.com/images/P/9723605465.01.THUMBZZZ.jpg|http://images.amazon.com/images/P/9723605465.01.MZZZZZZZ.jpg|http://images.amazon.com/images/P/9723605465.01.LZZZZZZZ.jpg|\n",
      "|0553112562|Haywire                                                             |Brooke Hayward         |0   |Bantam Doubleday Dell          |http://images.amazon.com/images/P/0553112562.01.THUMBZZZ.jpg|http://images.amazon.com/images/P/0553112562.01.MZZZZZZZ.jpg|http://images.amazon.com/images/P/0553112562.01.LZZZZZZZ.jpg|\n",
      "|2277300063|La Neige En Deuil                                                   |Henri Troyat           |0   |Jai Lu French                  |http://images.amazon.com/images/P/2277300063.01.THUMBZZZ.jpg|http://images.amazon.com/images/P/2277300063.01.MZZZZZZZ.jpg|http://images.amazon.com/images/P/2277300063.01.LZZZZZZZ.jpg|\n",
      "|0718114418|Here At the New Yorker                                              |Brendan Gill           |0   |Penguin Putnam~trade           |http://images.amazon.com/images/P/0718114418.01.THUMBZZZ.jpg|http://images.amazon.com/images/P/0718114418.01.MZZZZZZZ.jpg|http://images.amazon.com/images/P/0718114418.01.LZZZZZZZ.jpg|\n",
      "|0670821705|Moved and the Shaken                                                |Ken Dryden             |0   |Penguin Putnam~childrens Hc    |http://images.amazon.com/images/P/0670821705.01.THUMBZZZ.jpg|http://images.amazon.com/images/P/0670821705.01.MZZZZZZZ.jpg|http://images.amazon.com/images/P/0670821705.01.LZZZZZZZ.jpg|\n",
      "|8804314826|Coscienza Di Zeno                                                   |Italo Svevo            |0   |Oscar Italian                  |http://images.amazon.com/images/P/8804314826.01.THUMBZZZ.jpg|http://images.amazon.com/images/P/8804314826.01.MZZZZZZZ.jpg|http://images.amazon.com/images/P/8804314826.01.LZZZZZZZ.jpg|\n",
      "|3596123402|Mitunter Sogar Lachen (Fiction, Poetry and Drama)                   |Fried                  |0   |Fischer Taschenbuch Verlag GmbH|http://images.amazon.com/images/P/3596123402.01.THUMBZZZ.jpg|http://images.amazon.com/images/P/3596123402.01.MZZZZZZZ.jpg|http://images.amazon.com/images/P/3596123402.01.LZZZZZZZ.jpg|\n",
      "|057114571X|High Ground                                                         |John Mcgahern          |0   |Faber Faber Inc                |http://images.amazon.com/images/P/057114571X.01.THUMBZZZ.jpg|http://images.amazon.com/images/P/057114571X.01.MZZZZZZZ.jpg|http://images.amazon.com/images/P/057114571X.01.LZZZZZZZ.jpg|\n",
      "|1898784930|The Christmas Mice                                                  |Caroline Repchuk       |0   |Templar Publishing             |http://images.amazon.com/images/P/1898784930.01.THUMBZZZ.jpg|http://images.amazon.com/images/P/1898784930.01.MZZZZZZZ.jpg|http://images.amazon.com/images/P/1898784930.01.LZZZZZZZ.jpg|\n",
      "|0948491345|Who's Having Your Baby?: A Health Rights Handbook for Maternity Care|Beverley Lawrence Beech|0   |Camden Press                   |http://images.amazon.com/images/P/0948491345.01.THUMBZZZ.jpg|http://images.amazon.com/images/P/0948491345.01.MZZZZZZZ.jpg|http://images.amazon.com/images/P/0948491345.01.LZZZZZZZ.jpg|\n",
      "|1861065515|Nine Lives of Minnie Winder                                         |Minnie Winder Williams |0   |Minerva Press                  |http://images.amazon.com/images/P/1861065515.01.THUMBZZZ.jpg|http://images.amazon.com/images/P/1861065515.01.MZZZZZZZ.jpg|http://images.amazon.com/images/P/1861065515.01.LZZZZZZZ.jpg|\n",
      "|0826930425|Welding Skills and Practices 4ED                                    |J W Giachino           |0   |American Technical Publishers  |http://images.amazon.com/images/P/0826930425.01.THUMBZZZ.jpg|http://images.amazon.com/images/P/0826930425.01.MZZZZZZZ.jpg|http://images.amazon.com/images/P/0826930425.01.LZZZZZZZ.jpg|\n",
      "|055299491X|Camomile Lawn                                                       |Mary Wesley            |0   |Bantam Doubleday Dell          |http://images.amazon.com/images/P/055299491X.01.THUMBZZZ.jpg|http://images.amazon.com/images/P/055299491X.01.MZZZZZZZ.jpg|http://images.amazon.com/images/P/055299491X.01.LZZZZZZZ.jpg|\n",
      "|000654679X|Remembrance Day                                                     |Brian Aldiss           |0   |Flamingo                       |http://images.amazon.com/images/P/000654679X.01.THUMBZZZ.jpg|http://images.amazon.com/images/P/000654679X.01.MZZZZZZZ.jpg|http://images.amazon.com/images/P/000654679X.01.LZZZZZZZ.jpg|\n",
      "|071347114X|Nigel Short World Chess Challenger                                  |Raymond Keene          |0   |Rowman Littlefield             |http://images.amazon.com/images/P/071347114X.01.THUMBZZZ.jpg|http://images.amazon.com/images/P/071347114X.01.MZZZZZZZ.jpg|http://images.amazon.com/images/P/071347114X.01.LZZZZZZZ.jpg|\n",
      "|0330359819|Edge of the Rain                                                    |Beverley Harper        |0   |Pan Macmillan Australia Pty Ltd|http://images.amazon.com/images/P/0330359819.01.THUMBZZZ.jpg|http://images.amazon.com/images/P/0330359819.01.MZZZZZZZ.jpg|http://images.amazon.com/images/P/0330359819.01.LZZZZZZZ.jpg|\n",
      "|0553146076|Steel of Raithskar Cycle 1                                          |Randall Garrett        |0   |Bantam Doubleday Dell          |http://images.amazon.com/images/P/0553146076.01.THUMBZZZ.jpg|http://images.amazon.com/images/P/0553146076.01.MZZZZZZZ.jpg|http://images.amazon.com/images/P/0553146076.01.LZZZZZZZ.jpg|\n",
      "+----------+--------------------------------------------------------------------+-----------------------+----+-------------------------------+------------------------------------------------------------+------------------------------------------------------------+------------------------------------------------------------+\n",
      "only showing top 20 rows\n",
      "\n"
     ]
    }
   ],
   "source": [
    "dataset_books = dataset_books.filter(\n",
    "    ~dataset_books.Year.isin([1376, 1378])\n",
    ")\n",
    "\n",
    "dataset_books.show(truncate=False)"
   ],
   "metadata": {
    "collapsed": false,
    "pycharm": {
     "name": "#%%\n"
    }
   }
  },
  {
   "cell_type": "code",
   "execution_count": 45,
   "outputs": [
    {
     "name": "stderr",
     "output_type": "stream",
     "text": [
      "[Stage 61:>                                                         (0 + 8) / 8]\r"
     ]
    },
    {
     "name": "stdout",
     "output_type": "stream",
     "text": [
      "+------------------------+-----+\n",
      "|Publisher               |count|\n",
      "+------------------------+-----+\n",
      "|Harlequin               |7206 |\n",
      "|Silhouette              |4053 |\n",
      "|Pocket                  |3865 |\n",
      "|Ballantine Books        |3688 |\n",
      "|Bantam Books            |3644 |\n",
      "|Scholastic              |3139 |\n",
      "|Simon & Schuster        |2920 |\n",
      "|Penguin Books           |2795 |\n",
      "|Penguin USA             |2715 |\n",
      "|Warner Books            |2656 |\n",
      "|Berkley Publishing Group|2596 |\n",
      "|Harpercollins           |2525 |\n",
      "|Fawcett Books           |2252 |\n",
      "|Random House Inc        |2045 |\n",
      "|Signet Book             |1982 |\n",
      "|St Martins Pr           |1953 |\n",
      "|St. Martin's Press      |1728 |\n",
      "|HarperCollins Publishers|1701 |\n",
      "|Zebra Books             |1641 |\n",
      "|Tor Books               |1640 |\n",
      "+------------------------+-----+\n",
      "only showing top 20 rows\n",
      "\n"
     ]
    },
    {
     "name": "stderr",
     "output_type": "stream",
     "text": [
      "                                                                                \r"
     ]
    }
   ],
   "source": [
    "dataset_books.groupby('Publisher')\\\n",
    "    .count()\\\n",
    "    .sort('count', ascending=False)\\\n",
    "    .show(truncate=False)"
   ],
   "metadata": {
    "collapsed": false,
    "pycharm": {
     "name": "#%%\n"
    }
   }
  },
  {
   "cell_type": "code",
   "execution_count": 46,
   "outputs": [
    {
     "name": "stderr",
     "output_type": "stream",
     "text": [
      "[Stage 65:======================================>                 (26 + 8) / 38]\r"
     ]
    },
    {
     "name": "stdout",
     "output_type": "stream",
     "text": [
      "+------------------------+-----+-----+----+\n",
      "|Publisher               |count|first|last|\n",
      "+------------------------+-----+-----+----+\n",
      "|Harlequin               |7206 |1902 |2003|\n",
      "|Silhouette              |4053 |1980 |2003|\n",
      "|Pocket                  |3865 |0    |2003|\n",
      "|Ballantine Books        |3688 |0    |2003|\n",
      "|Bantam Books            |3644 |0    |2003|\n",
      "|Scholastic              |3139 |0    |2003|\n",
      "|Simon & Schuster        |2920 |0    |2003|\n",
      "|Penguin Books           |2795 |0    |2003|\n",
      "|Penguin USA             |2715 |0    |2003|\n",
      "|Warner Books            |2656 |0    |2003|\n",
      "|Berkley Publishing Group|2596 |0    |2003|\n",
      "|Harpercollins           |2525 |0    |2003|\n",
      "|Fawcett Books           |2252 |0    |2003|\n",
      "|Random House Inc        |2045 |1956 |2003|\n",
      "|Signet Book             |1982 |0    |2003|\n",
      "|St Martins Pr           |1953 |0    |2002|\n",
      "|St. Martin's Press      |1728 |0    |2003|\n",
      "|HarperCollins Publishers|1701 |0    |2003|\n",
      "|Zebra Books             |1641 |1980 |2003|\n",
      "|Tor Books               |1640 |0    |2003|\n",
      "+------------------------+-----+-----+----+\n",
      "only showing top 20 rows\n",
      "\n"
     ]
    },
    {
     "name": "stderr",
     "output_type": "stream",
     "text": [
      "                                                                                \r"
     ]
    }
   ],
   "source": [
    "dataset_books.groupby('Publisher').agg(\n",
    "    functions.count('Publisher').alias('count'),\n",
    "    functions.first('Year').alias('first'),\n",
    "    functions.last('Year').alias('last')\n",
    ").sort('count', ascending=False).show(truncate=False)"
   ],
   "metadata": {
    "collapsed": false,
    "pycharm": {
     "name": "#%%\n"
    }
   }
  },
  {
   "cell_type": "code",
   "execution_count": 48,
   "outputs": [
    {
     "name": "stderr",
     "output_type": "stream",
     "text": [
      "[Stage 68:==============>                                           (2 + 6) / 8]\r"
     ]
    },
    {
     "name": "stdout",
     "output_type": "stream",
     "text": [
      "+----------+-----------+---------+------------------+---------+\n",
      "|BookID    |RatingCount|RatingMin|RatingMean        |RatingMax|\n",
      "+----------+-----------+---------+------------------+---------+\n",
      "|0971880107|2502       |0        |1.0195843325339728|10       |\n",
      "|0316666343|1295       |0        |4.468725868725869 |10       |\n",
      "|0385504209|883        |0        |4.652321630804077 |10       |\n",
      "|0060928336|732        |0        |3.448087431693989 |10       |\n",
      "|0312195516|723        |0        |4.334716459197787 |10       |\n",
      "|044023722X|647        |0        |3.187017001545595 |10       |\n",
      "|0679781587|639        |0        |4.381846635367762 |10       |\n",
      "|0142001740|615        |0        |4.219512195121951 |10       |\n",
      "|067976402X|614        |0        |3.255700325732899 |10       |\n",
      "|0671027360|586        |0        |3.718430034129693 |10       |\n",
      "|0446672211|585        |0        |4.105982905982906 |10       |\n",
      "|059035342X|571        |0        |4.900175131348512 |10       |\n",
      "|0316601950|568        |0        |3.5933098591549295|10       |\n",
      "|0375727345|552        |0        |3.039855072463768 |10       |\n",
      "|044021145X|529        |0        |3.0756143667296785|10       |\n",
      "|0452282152|526        |0        |4.218631178707224 |10       |\n",
      "|0440214041|523        |0        |2.5239005736137665|10       |\n",
      "|0804106304|519        |0        |3.0635838150289016|10       |\n",
      "|0440211727|517        |0        |2.97678916827853  |10       |\n",
      "|0345337662|506        |0        |3.535573122529644 |10       |\n",
      "+----------+-----------+---------+------------------+---------+\n",
      "only showing top 20 rows\n",
      "\n"
     ]
    },
    {
     "name": "stderr",
     "output_type": "stream",
     "text": [
      "                                                                                \r"
     ]
    }
   ],
   "source": [
    "\n",
    "dataset_group_rating = dataset_rating.groupby('BookID').agg(\n",
    "    functions.count('Rating').alias('RatingCount'),\n",
    "    functions.min('Rating').alias('RatingMin'),\n",
    "    functions.avg('Rating').alias('RatingMean'),\n",
    "    functions.max('Rating').alias('RatingMax'),\n",
    ").sort('RatingCount', ascending=False)\n",
    "\n",
    "dataset_group_rating.show(truncate=False)"
   ],
   "metadata": {
    "collapsed": false,
    "pycharm": {
     "name": "#%%\n"
    }
   }
  },
  {
   "cell_type": "code",
   "execution_count": 52,
   "outputs": [
    {
     "name": "stderr",
     "output_type": "stream",
     "text": [
      "[Stage 75:=======>                                                  (1 + 7) / 8]\r"
     ]
    },
    {
     "name": "stdout",
     "output_type": "stream",
     "text": [
      "+----------+----------------------------------------------------------------------------------------------------------+----------------------+----+-----------------------------+------------------------------------------------------------+------------------------------------------------------------+------------------------------------------------------------+-----------+---------+----------+---------+\n",
      "|BookID    |Title                                                                                                     |Author                |Year|Publisher                    |Image-URL-S                                                 |Image-URL-M                                                 |Image-URL-L                                                 |RatingCount|RatingMin|RatingMean|RatingMax|\n",
      "+----------+----------------------------------------------------------------------------------------------------------+----------------------+----+-----------------------------+------------------------------------------------------------+------------------------------------------------------------+------------------------------------------------------------+-----------+---------+----------+---------+\n",
      "|0002234947|Miss Hobbema Pageant                                                                                      |W.P. Kinsella         |1990|Harpercollins Juvenile Books |http://images.amazon.com/images/P/0002234947.01.THUMBZZZ.jpg|http://images.amazon.com/images/P/0002234947.01.MZZZZZZZ.jpg|http://images.amazon.com/images/P/0002234947.01.LZZZZZZZ.jpg|3          |0        |0.0       |0        |\n",
      "|0002243687|Brother Frank's gospel hour: And other stories                                                            |W. P Kinsella         |1994|HarperCollins                |http://images.amazon.com/images/P/0002243687.01.THUMBZZZ.jpg|http://images.amazon.com/images/P/0002243687.01.MZZZZZZZ.jpg|http://images.amazon.com/images/P/0002243687.01.LZZZZZZZ.jpg|1          |0        |0.0       |0        |\n",
      "|0002257084|Dolce Vita                                                                                                |Iseult Teran          |1999|HarperCollins Publishers     |http://images.amazon.com/images/P/0002257084.01.THUMBZZZ.jpg|http://images.amazon.com/images/P/0002257084.01.MZZZZZZZ.jpg|http://images.amazon.com/images/P/0002257084.01.LZZZZZZZ.jpg|1          |0        |0.0       |0        |\n",
      "|0007640617|Energize Your Life                                                                                        |Nic Rowley            |2002|Thorsons Publishers          |http://images.amazon.com/images/P/0007640617.01.THUMBZZZ.jpg|http://images.amazon.com/images/P/0007640617.01.MZZZZZZZ.jpg|http://images.amazon.com/images/P/0007640617.01.LZZZZZZZ.jpg|1          |0        |0.0       |0        |\n",
      "|0020444400|The voyage of the Dawn Treader (The Chronicles of Narnia)                                                 |C. S Lewis            |1986|Collier                      |http://images.amazon.com/images/P/0020444400.01.THUMBZZZ.jpg|http://images.amazon.com/images/P/0020444400.01.MZZZZZZZ.jpg|http://images.amazon.com/images/P/0020444400.01.LZZZZZZZ.jpg|1          |9        |9.0       |9        |\n",
      "|0025483307|Stranger in Two Worlds                                                                                    |Jean Harris           |1986|Simon & Schuster             |http://images.amazon.com/images/P/0025483307.01.THUMBZZZ.jpg|http://images.amazon.com/images/P/0025483307.01.MZZZZZZZ.jpg|http://images.amazon.com/images/P/0025483307.01.LZZZZZZZ.jpg|1          |0        |0.0       |0        |\n",
      "|0028610881|The Complete Idiot's Guide to Decorating Your Home (Complete Idiots Guide)                                |Mary Ann Young        |1997|Alpha Books                  |http://images.amazon.com/images/P/0028610881.01.THUMBZZZ.jpg|http://images.amazon.com/images/P/0028610881.01.MZZZZZZZ.jpg|http://images.amazon.com/images/P/0028610881.01.LZZZZZZZ.jpg|1          |0        |0.0       |0        |\n",
      "|0028622480|The First-Book Market: Where and How to Publish Your First Book and Make It a Success                     |Jason Shinder         |1998|MacMillan Publishing Company.|http://images.amazon.com/images/P/0028622480.01.THUMBZZZ.jpg|http://images.amazon.com/images/P/0028622480.01.MZZZZZZZ.jpg|http://images.amazon.com/images/P/0028622480.01.LZZZZZZZ.jpg|2          |7        |8.5       |10       |\n",
      "|0028628616|The Complete Idiot's Guide to Soups                                                                       |Jenna Holst           |1998|Macmillan Distribution       |http://images.amazon.com/images/P/0028628616.01.THUMBZZZ.jpg|http://images.amazon.com/images/P/0028628616.01.MZZZZZZZ.jpg|http://images.amazon.com/images/P/0028628616.01.LZZZZZZZ.jpg|1          |0        |0.0       |0        |\n",
      "|0060082135|Informant, The (Low Price)                                                                                |James Grippando       |2002|HarperAudio                  |http://images.amazon.com/images/P/0060082135.01.THUMBZZZ.jpg|http://images.amazon.com/images/P/0060082135.01.MZZZZZZZ.jpg|http://images.amazon.com/images/P/0060082135.01.LZZZZZZZ.jpg|1          |0        |0.0       |0        |\n",
      "|0060117079|Operation Apricot                                                                                         |C.A. Haddad           |1977|Harpercollins                |http://images.amazon.com/images/P/0060117079.01.THUMBZZZ.jpg|http://images.amazon.com/images/P/0060117079.01.MZZZZZZZ.jpg|http://images.amazon.com/images/P/0060117079.01.LZZZZZZZ.jpg|1          |0        |0.0       |0        |\n",
      "|0060131942|The practice                                                                                              |Alan Edward Nourse    |1978|Harper & Row                 |http://images.amazon.com/images/P/0060131942.01.THUMBZZZ.jpg|http://images.amazon.com/images/P/0060131942.01.MZZZZZZZ.jpg|http://images.amazon.com/images/P/0060131942.01.LZZZZZZZ.jpg|1          |0        |0.0       |0        |\n",
      "|0060160772|Peace, Love and Healing: Bodymind Communication and the Path to Self-Healing : An Exploration             |Bernie S., M.D. Siegel|1989|Harpercollins                |http://images.amazon.com/images/P/0060160772.01.THUMBZZZ.jpg|http://images.amazon.com/images/P/0060160772.01.MZZZZZZZ.jpg|http://images.amazon.com/images/P/0060160772.01.LZZZZZZZ.jpg|10         |0        |2.0       |10       |\n",
      "|006017367X|The Wit & Wisdom of Oscar Wilde: A Treasury of Quotations, Anecdotes, and Repartee                        |Oscar Wilde           |1996|Harpercollins                |http://images.amazon.com/images/P/006017367X.01.THUMBZZZ.jpg|http://images.amazon.com/images/P/006017367X.01.MZZZZZZZ.jpg|http://images.amazon.com/images/P/006017367X.01.LZZZZZZZ.jpg|1          |9        |9.0       |9        |\n",
      "|0060176059|Tales of Burning Love                                                                                     |Louise Erdrich        |1996|Harpercollins                |http://images.amazon.com/images/P/0060176059.01.THUMBZZZ.jpg|http://images.amazon.com/images/P/0060176059.01.MZZZZZZZ.jpg|http://images.amazon.com/images/P/0060176059.01.LZZZZZZZ.jpg|8          |0        |3.5       |8        |\n",
      "|0060176393|Fallen Skies                                                                                              |Philippa Gregory      |1995|HarperCollins Publishers     |http://images.amazon.com/images/P/0060176393.01.THUMBZZZ.jpg|http://images.amazon.com/images/P/0060176393.01.MZZZZZZZ.jpg|http://images.amazon.com/images/P/0060176393.01.LZZZZZZZ.jpg|1          |0        |0.0       |0        |\n",
      "|0060176784|Saying Grace: A Novel                                                                                     |Beth Gutcheon         |1995|Harpercollins                |http://images.amazon.com/images/P/0060176784.01.THUMBZZZ.jpg|http://images.amazon.com/images/P/0060176784.01.MZZZZZZZ.jpg|http://images.amazon.com/images/P/0060176784.01.LZZZZZZZ.jpg|4          |0        |3.5       |7        |\n",
      "|0060187247|Carbohydrate-Addicted Kids: Help Your Child or Teen Break Free of Junk Food and Sugar Cravings - For Life!|Richard F. Heller     |1997|Harpercollins                |http://images.amazon.com/images/P/0060187247.01.THUMBZZZ.jpg|http://images.amazon.com/images/P/0060187247.01.MZZZZZZZ.jpg|http://images.amazon.com/images/P/0060187247.01.LZZZZZZZ.jpg|3          |0        |0.0       |0        |\n",
      "|0060390077|America in search of itself: The making of the President, 1956-1980                                       |Theodore Harold White |1982|Harper & Row                 |http://images.amazon.com/images/P/0060390077.01.THUMBZZZ.jpg|http://images.amazon.com/images/P/0060390077.01.MZZZZZZZ.jpg|http://images.amazon.com/images/P/0060390077.01.LZZZZZZZ.jpg|1          |0        |0.0       |0        |\n",
      "|0060392436|Anti-Aging Zone                                                                                           |Barry Sears           |1998|ReganBooks                   |http://images.amazon.com/images/P/0060392436.01.THUMBZZZ.jpg|http://images.amazon.com/images/P/0060392436.01.MZZZZZZZ.jpg|http://images.amazon.com/images/P/0060392436.01.LZZZZZZZ.jpg|2          |0        |1.0       |2        |\n",
      "+----------+----------------------------------------------------------------------------------------------------------+----------------------+----+-----------------------------+------------------------------------------------------------+------------------------------------------------------------+------------------------------------------------------------+-----------+---------+----------+---------+\n",
      "only showing top 20 rows\n",
      "\n"
     ]
    },
    {
     "name": "stderr",
     "output_type": "stream",
     "text": [
      "                                                                                \r"
     ]
    }
   ],
   "source": [
    "dataset = dataset_books.join(\n",
    "    dataset_group_rating,\n",
    "    ['BookID']\n",
    ")\n",
    "\n",
    "dataset.show(truncate=False)"
   ],
   "metadata": {
    "collapsed": false,
    "pycharm": {
     "name": "#%%\n"
    }
   }
  },
  {
   "cell_type": "code",
   "execution_count": 55,
   "outputs": [
    {
     "name": "stderr",
     "output_type": "stream",
     "text": [
      "[Stage 87:>                                                         (0 + 8) / 8]\r"
     ]
    },
    {
     "name": "stdout",
     "output_type": "stream",
     "text": [
      "+----------+--------------------+--------------------+----+--------------------+-----------+---------+----------+---------+\n",
      "|    BookID|               Title|              Author|Year|           Publisher|RatingCount|RatingMin|RatingMean|RatingMax|\n",
      "+----------+--------------------+--------------------+----+--------------------+-----------+---------+----------+---------+\n",
      "|0002234947|Miss Hobbema Pageant|       W.P. Kinsella|1990|Harpercollins Juv...|          3|        0|       0.0|        0|\n",
      "|0002243687|Brother Frank's g...|       W. P Kinsella|1994|       HarperCollins|          1|        0|       0.0|        0|\n",
      "|0002257084|          Dolce Vita|        Iseult Teran|1999|HarperCollins Pub...|          1|        0|       0.0|        0|\n",
      "|0007640617|  Energize Your Life|          Nic Rowley|2002| Thorsons Publishers|          1|        0|       0.0|        0|\n",
      "|0020444400|The voyage of the...|          C. S Lewis|1986|             Collier|          1|        9|       9.0|        9|\n",
      "|0025483307|Stranger in Two W...|         Jean Harris|1986|    Simon & Schuster|          1|        0|       0.0|        0|\n",
      "|0028610881|The Complete Idio...|      Mary Ann Young|1997|         Alpha Books|          1|        0|       0.0|        0|\n",
      "|0028622480|The First-Book Ma...|       Jason Shinder|1998|MacMillan Publish...|          2|        7|       8.5|       10|\n",
      "|0028628616|The Complete Idio...|         Jenna Holst|1998|Macmillan Distrib...|          1|        0|       0.0|        0|\n",
      "|0060082135|Informant, The (L...|     James Grippando|2002|         HarperAudio|          1|        0|       0.0|        0|\n",
      "|0060117079|   Operation Apricot|         C.A. Haddad|1977|       Harpercollins|          1|        0|       0.0|        0|\n",
      "|0060131942|        The practice|  Alan Edward Nourse|1978|        Harper & Row|          1|        0|       0.0|        0|\n",
      "|0060160772|Peace, Love and H...|Bernie S., M.D. S...|1989|       Harpercollins|         10|        0|       2.0|       10|\n",
      "|006017367X|The Wit & Wisdom ...|         Oscar Wilde|1996|       Harpercollins|          1|        9|       9.0|        9|\n",
      "|0060176059|Tales of Burning ...|      Louise Erdrich|1996|       Harpercollins|          8|        0|       3.5|        8|\n",
      "|0060176393|        Fallen Skies|    Philippa Gregory|1995|HarperCollins Pub...|          1|        0|       0.0|        0|\n",
      "|0060176784|Saying Grace: A N...|       Beth Gutcheon|1995|       Harpercollins|          4|        0|       3.5|        7|\n",
      "|0060187247|Carbohydrate-Addi...|   Richard F. Heller|1997|       Harpercollins|          3|        0|       0.0|        0|\n",
      "|0060390077|America in search...|Theodore Harold W...|1982|        Harper & Row|          1|        0|       0.0|        0|\n",
      "|0060392436|     Anti-Aging Zone|         Barry Sears|1998|          ReganBooks|          2|        0|       1.0|        2|\n",
      "+----------+--------------------+--------------------+----+--------------------+-----------+---------+----------+---------+\n",
      "only showing top 20 rows\n",
      "\n"
     ]
    },
    {
     "name": "stderr",
     "output_type": "stream",
     "text": [
      "                                                                                \r"
     ]
    }
   ],
   "source": [
    "dataset = dataset\\\n",
    "    .drop('Image-URL-S')\\\n",
    "    .drop('Image-URL-M')\\\n",
    "    .drop('Image-URL-L')\n",
    "\n",
    "dataset.show(truncate=True)"
   ],
   "metadata": {
    "collapsed": false,
    "pycharm": {
     "name": "#%%\n"
    }
   }
  },
  {
   "cell_type": "code",
   "execution_count": 54,
   "outputs": [
    {
     "name": "stderr",
     "output_type": "stream",
     "text": [
      "21/12/22 13:49:58 WARN MemoryManager: Total allocation exceeds 95,00% (906.992.014 bytes) of heap memory\n",
      "Scaling row group sizes to 96,54% for 7 writers\n",
      "21/12/22 13:49:58 WARN MemoryManager: Total allocation exceeds 95,00% (906.992.014 bytes) of heap memory\n",
      "Scaling row group sizes to 84,47% for 8 writers\n",
      "21/12/22 13:49:59 WARN MemoryManager: Total allocation exceeds 95,00% (906.992.014 bytes) of heap memory\n",
      "Scaling row group sizes to 96,54% for 7 writers\n",
      "21/12/22 13:49:59 WARN MemoryManager: Total allocation exceeds 95,00% (906.992.014 bytes) of heap memory\n",
      "Scaling row group sizes to 96,54% for 7 writers\n",
      "21/12/22 13:49:59 WARN MemoryManager: Total allocation exceeds 95,00% (906.992.014 bytes) of heap memory\n",
      "Scaling row group sizes to 84,47% for 8 writers\n",
      "21/12/22 13:50:00 WARN MemoryManager: Total allocation exceeds 95,00% (906.992.014 bytes) of heap memory\n",
      "Scaling row group sizes to 96,54% for 7 writers\n",
      "21/12/22 13:50:00 WARN MemoryManager: Total allocation exceeds 95,00% (906.992.014 bytes) of heap memory\n",
      "Scaling row group sizes to 96,54% for 7 writers\n",
      "21/12/22 13:50:00 WARN MemoryManager: Total allocation exceeds 95,00% (906.992.014 bytes) of heap memory\n",
      "Scaling row group sizes to 84,47% for 8 writers\n",
      "21/12/22 13:50:00 WARN MemoryManager: Total allocation exceeds 95,00% (906.992.014 bytes) of heap memory\n",
      "Scaling row group sizes to 96,54% for 7 writers\n",
      "21/12/22 13:50:00 WARN MemoryManager: Total allocation exceeds 95,00% (906.992.014 bytes) of heap memory\n",
      "Scaling row group sizes to 96,54% for 7 writers\n",
      "21/12/22 13:50:00 WARN MemoryManager: Total allocation exceeds 95,00% (906.992.014 bytes) of heap memory\n",
      "Scaling row group sizes to 84,47% for 8 writers\n",
      "21/12/22 13:50:00 WARN MemoryManager: Total allocation exceeds 95,00% (906.992.014 bytes) of heap memory\n",
      "Scaling row group sizes to 96,54% for 7 writers\n",
      "21/12/22 13:50:01 WARN MemoryManager: Total allocation exceeds 95,00% (906.992.014 bytes) of heap memory\n",
      "Scaling row group sizes to 96,54% for 7 writers\n",
      "21/12/22 13:50:01 WARN MemoryManager: Total allocation exceeds 95,00% (906.992.014 bytes) of heap memory\n",
      "Scaling row group sizes to 84,47% for 8 writers\n",
      "21/12/22 13:50:01 WARN MemoryManager: Total allocation exceeds 95,00% (906.992.014 bytes) of heap memory\n",
      "Scaling row group sizes to 96,54% for 7 writers\n",
      "21/12/22 13:50:01 WARN MemoryManager: Total allocation exceeds 95,00% (906.992.014 bytes) of heap memory\n",
      "Scaling row group sizes to 96,54% for 7 writers\n",
      "21/12/22 13:50:01 WARN MemoryManager: Total allocation exceeds 95,00% (906.992.014 bytes) of heap memory\n",
      "Scaling row group sizes to 84,47% for 8 writers\n",
      "21/12/22 13:50:01 WARN MemoryManager: Total allocation exceeds 95,00% (906.992.014 bytes) of heap memory\n",
      "Scaling row group sizes to 96,54% for 7 writers\n",
      "21/12/22 13:50:01 WARN MemoryManager: Total allocation exceeds 95,00% (906.992.014 bytes) of heap memory\n",
      "Scaling row group sizes to 96,54% for 7 writers\n",
      "21/12/22 13:50:01 WARN MemoryManager: Total allocation exceeds 95,00% (906.992.014 bytes) of heap memory\n",
      "Scaling row group sizes to 84,47% for 8 writers\n",
      "21/12/22 13:50:01 WARN MemoryManager: Total allocation exceeds 95,00% (906.992.014 bytes) of heap memory\n",
      "Scaling row group sizes to 96,54% for 7 writers\n",
      "21/12/22 13:50:02 WARN MemoryManager: Total allocation exceeds 95,00% (906.992.014 bytes) of heap memory\n",
      "Scaling row group sizes to 96,54% for 7 writers\n",
      "21/12/22 13:50:02 WARN MemoryManager: Total allocation exceeds 95,00% (906.992.014 bytes) of heap memory\n",
      "Scaling row group sizes to 84,47% for 8 writers\n",
      "21/12/22 13:50:02 WARN MemoryManager: Total allocation exceeds 95,00% (906.992.014 bytes) of heap memory\n",
      "Scaling row group sizes to 96,54% for 7 writers\n",
      "21/12/22 13:50:02 WARN MemoryManager: Total allocation exceeds 95,00% (906.992.014 bytes) of heap memory\n",
      "Scaling row group sizes to 96,54% for 7 writers\n",
      "21/12/22 13:50:02 WARN MemoryManager: Total allocation exceeds 95,00% (906.992.014 bytes) of heap memory\n",
      "Scaling row group sizes to 84,47% for 8 writers\n",
      "21/12/22 13:50:02 WARN MemoryManager: Total allocation exceeds 95,00% (906.992.014 bytes) of heap memory\n",
      "Scaling row group sizes to 96,54% for 7 writers\n",
      "21/12/22 13:50:02 WARN MemoryManager: Total allocation exceeds 95,00% (906.992.014 bytes) of heap memory\n",
      "Scaling row group sizes to 96,54% for 7 writers\n",
      "21/12/22 13:50:02 WARN MemoryManager: Total allocation exceeds 95,00% (906.992.014 bytes) of heap memory\n",
      "Scaling row group sizes to 84,47% for 8 writers\n",
      "21/12/22 13:50:02 WARN MemoryManager: Total allocation exceeds 95,00% (906.992.014 bytes) of heap memory\n",
      "Scaling row group sizes to 96,54% for 7 writers\n",
      "21/12/22 13:50:02 WARN MemoryManager: Total allocation exceeds 95,00% (906.992.014 bytes) of heap memory\n",
      "Scaling row group sizes to 96,54% for 7 writers\n",
      "21/12/22 13:50:02 WARN MemoryManager: Total allocation exceeds 95,00% (906.992.014 bytes) of heap memory\n",
      "Scaling row group sizes to 84,47% for 8 writers\n",
      "21/12/22 13:50:02 WARN MemoryManager: Total allocation exceeds 95,00% (906.992.014 bytes) of heap memory\n",
      "Scaling row group sizes to 96,54% for 7 writers\n",
      "21/12/22 13:50:02 WARN MemoryManager: Total allocation exceeds 95,00% (906.992.014 bytes) of heap memory\n",
      "Scaling row group sizes to 96,54% for 7 writers\n",
      "21/12/22 13:50:02 WARN MemoryManager: Total allocation exceeds 95,00% (906.992.014 bytes) of heap memory\n",
      "Scaling row group sizes to 84,47% for 8 writers\n",
      "21/12/22 13:50:02 WARN MemoryManager: Total allocation exceeds 95,00% (906.992.014 bytes) of heap memory\n",
      "Scaling row group sizes to 96,54% for 7 writers\n",
      "21/12/22 13:50:02 WARN MemoryManager: Total allocation exceeds 95,00% (906.992.014 bytes) of heap memory\n",
      "Scaling row group sizes to 96,54% for 7 writers\n",
      "21/12/22 13:50:02 WARN MemoryManager: Total allocation exceeds 95,00% (906.992.014 bytes) of heap memory\n",
      "Scaling row group sizes to 84,47% for 8 writers\n",
      "21/12/22 13:50:02 WARN MemoryManager: Total allocation exceeds 95,00% (906.992.014 bytes) of heap memory\n",
      "Scaling row group sizes to 96,54% for 7 writers\n",
      "21/12/22 13:50:03 WARN MemoryManager: Total allocation exceeds 95,00% (906.992.014 bytes) of heap memory\n",
      "Scaling row group sizes to 96,54% for 7 writers\n",
      "21/12/22 13:50:03 WARN MemoryManager: Total allocation exceeds 95,00% (906.992.014 bytes) of heap memory\n",
      "Scaling row group sizes to 84,47% for 8 writers\n",
      "21/12/22 13:50:03 WARN MemoryManager: Total allocation exceeds 95,00% (906.992.014 bytes) of heap memory\n",
      "Scaling row group sizes to 96,54% for 7 writers\n",
      "21/12/22 13:50:03 WARN MemoryManager: Total allocation exceeds 95,00% (906.992.014 bytes) of heap memory\n",
      "Scaling row group sizes to 96,54% for 7 writers\n",
      "21/12/22 13:50:03 WARN MemoryManager: Total allocation exceeds 95,00% (906.992.014 bytes) of heap memory\n",
      "Scaling row group sizes to 84,47% for 8 writers\n",
      "21/12/22 13:50:03 WARN MemoryManager: Total allocation exceeds 95,00% (906.992.014 bytes) of heap memory\n",
      "Scaling row group sizes to 96,54% for 7 writers\n",
      "21/12/22 13:50:03 WARN MemoryManager: Total allocation exceeds 95,00% (906.992.014 bytes) of heap memory\n",
      "Scaling row group sizes to 96,54% for 7 writers\n",
      "21/12/22 13:50:03 WARN MemoryManager: Total allocation exceeds 95,00% (906.992.014 bytes) of heap memory\n",
      "Scaling row group sizes to 84,47% for 8 writers\n",
      "21/12/22 13:50:03 WARN MemoryManager: Total allocation exceeds 95,00% (906.992.014 bytes) of heap memory\n",
      "Scaling row group sizes to 96,54% for 7 writers\n",
      "21/12/22 13:50:03 WARN MemoryManager: Total allocation exceeds 95,00% (906.992.014 bytes) of heap memory\n",
      "Scaling row group sizes to 96,54% for 7 writers\n",
      "21/12/22 13:50:03 WARN MemoryManager: Total allocation exceeds 95,00% (906.992.014 bytes) of heap memory\n",
      "Scaling row group sizes to 84,47% for 8 writers\n",
      "21/12/22 13:50:03 WARN MemoryManager: Total allocation exceeds 95,00% (906.992.014 bytes) of heap memory\n",
      "Scaling row group sizes to 96,54% for 7 writers\n",
      "21/12/22 13:50:04 WARN MemoryManager: Total allocation exceeds 95,00% (906.992.014 bytes) of heap memory\n",
      "Scaling row group sizes to 96,54% for 7 writers\n",
      "21/12/22 13:50:04 WARN MemoryManager: Total allocation exceeds 95,00% (906.992.014 bytes) of heap memory\n",
      "Scaling row group sizes to 84,47% for 8 writers\n",
      "21/12/22 13:50:04 WARN MemoryManager: Total allocation exceeds 95,00% (906.992.014 bytes) of heap memory\n",
      "Scaling row group sizes to 96,54% for 7 writers\n",
      "21/12/22 13:50:04 WARN MemoryManager: Total allocation exceeds 95,00% (906.992.014 bytes) of heap memory\n",
      "Scaling row group sizes to 96,54% for 7 writers\n",
      "21/12/22 13:50:04 WARN MemoryManager: Total allocation exceeds 95,00% (906.992.014 bytes) of heap memory\n",
      "Scaling row group sizes to 84,47% for 8 writers\n",
      "21/12/22 13:50:04 WARN MemoryManager: Total allocation exceeds 95,00% (906.992.014 bytes) of heap memory\n",
      "Scaling row group sizes to 96,54% for 7 writers\n",
      "21/12/22 13:50:04 WARN MemoryManager: Total allocation exceeds 95,00% (906.992.014 bytes) of heap memory\n",
      "Scaling row group sizes to 96,54% for 7 writers\n",
      "21/12/22 13:50:04 WARN MemoryManager: Total allocation exceeds 95,00% (906.992.014 bytes) of heap memory\n",
      "Scaling row group sizes to 84,47% for 8 writers\n",
      "21/12/22 13:50:04 WARN MemoryManager: Total allocation exceeds 95,00% (906.992.014 bytes) of heap memory\n",
      "Scaling row group sizes to 96,54% for 7 writers\n",
      "21/12/22 13:50:04 WARN MemoryManager: Total allocation exceeds 95,00% (906.992.014 bytes) of heap memory\n",
      "Scaling row group sizes to 96,54% for 7 writers\n",
      "21/12/22 13:50:04 WARN MemoryManager: Total allocation exceeds 95,00% (906.992.014 bytes) of heap memory\n",
      "Scaling row group sizes to 84,47% for 8 writers\n",
      "21/12/22 13:50:04 WARN MemoryManager: Total allocation exceeds 95,00% (906.992.014 bytes) of heap memory\n",
      "Scaling row group sizes to 96,54% for 7 writers\n",
      "21/12/22 13:50:04 WARN MemoryManager: Total allocation exceeds 95,00% (906.992.014 bytes) of heap memory\n",
      "Scaling row group sizes to 96,54% for 7 writers\n",
      "21/12/22 13:50:05 WARN MemoryManager: Total allocation exceeds 95,00% (906.992.014 bytes) of heap memory\n",
      "Scaling row group sizes to 96,54% for 7 writers\n",
      "21/12/22 13:50:05 WARN MemoryManager: Total allocation exceeds 95,00% (906.992.014 bytes) of heap memory\n",
      "Scaling row group sizes to 84,47% for 8 writers\n",
      "21/12/22 13:50:05 WARN MemoryManager: Total allocation exceeds 95,00% (906.992.014 bytes) of heap memory\n",
      "Scaling row group sizes to 96,54% for 7 writers\n",
      "                                                                                \r"
     ]
    }
   ],
   "source": [
    "dataset.write.parquet('../../../data/book_reviews/booksUnify.parquet')\n",
    "dataset.write.csv('../../../data/book_reviews/booksUnify.csv')\n"
   ],
   "metadata": {
    "collapsed": false,
    "pycharm": {
     "name": "#%%\n"
    }
   }
  },
  {
   "cell_type": "code",
   "execution_count": null,
   "outputs": [],
   "source": [],
   "metadata": {
    "collapsed": false,
    "pycharm": {
     "name": "#%%\n"
    }
   }
  }
 ],
 "metadata": {
  "kernelspec": {
   "display_name": "Python 3",
   "language": "python",
   "name": "python3"
  },
  "language_info": {
   "codemirror_mode": {
    "name": "ipython",
    "version": 2
   },
   "file_extension": ".py",
   "mimetype": "text/x-python",
   "name": "python",
   "nbconvert_exporter": "python",
   "pygments_lexer": "ipython2",
   "version": "2.7.6"
  }
 },
 "nbformat": 4,
 "nbformat_minor": 0
}