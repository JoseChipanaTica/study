{
 "cells": [
  {
   "cell_type": "code",
   "execution_count": 143,
   "metadata": {
    "collapsed": true
   },
   "outputs": [],
   "source": [
    "from pyspark.sql import SparkSession, functions\n",
    "from pyspark.ml.feature import OneHotEncoder, StringIndexer, VectorIndexer, VectorAssembler\n",
    "from pyspark.ml.evaluation import BinaryClassificationEvaluator\n",
    "from pyspark.ml import Pipeline, PipelineModel\n",
    "from pyspark.ml.classification import DecisionTreeClassifier\n",
    "\n",
    "import matplotlib.pyplot as plt\n",
    "import seaborn as sns"
   ]
  },
  {
   "cell_type": "code",
   "execution_count": 144,
   "outputs": [],
   "source": [
    "spark = SparkSession.builder.appName('JobsClassification').getOrCreate()"
   ],
   "metadata": {
    "collapsed": false,
    "pycharm": {
     "name": "#%%\n"
    }
   }
  },
  {
   "cell_type": "code",
   "execution_count": 145,
   "outputs": [
    {
     "name": "stdout",
     "output_type": "stream",
     "text": [
      "+-----------+--------+----------------------+------+--------------------+-------------------+---------------+----------------+----------+------------+--------------+------------+--------------+------+\n",
      "|enrollee_id|    city|city_development_index|gender| relevent_experience|enrolled_university|education_level|major_discipline|experience|company_size|  company_type|last_new_job|training_hours|target|\n",
      "+-----------+--------+----------------------+------+--------------------+-------------------+---------------+----------------+----------+------------+--------------+------------+--------------+------+\n",
      "|       8949|city_103|                  0.92|  Male|Has relevent expe...|      no_enrollment|       Graduate|            STEM|       >20|        null|          null|           1|            36|   1.0|\n",
      "|      29725| city_40|    0.7759999999999999|  Male|No relevent exper...|      no_enrollment|       Graduate|            STEM|        15|       50-99|       Pvt Ltd|          >4|            47|   0.0|\n",
      "|      11561| city_21|                 0.624|  null|No relevent exper...|   Full time course|       Graduate|            STEM|         5|        null|          null|       never|            83|   0.0|\n",
      "|      33241|city_115|                 0.789|  null|No relevent exper...|               null|       Graduate| Business Degree|        <1|        null|       Pvt Ltd|       never|            52|   1.0|\n",
      "|        666|city_162|                 0.767|  Male|Has relevent expe...|      no_enrollment|        Masters|            STEM|       >20|       50-99|Funded Startup|           4|             8|   0.0|\n",
      "|      21651|city_176|                 0.764|  null|Has relevent expe...|   Part time course|       Graduate|            STEM|        11|        null|          null|           1|            24|   1.0|\n",
      "|      28806|city_160|                  0.92|  Male|Has relevent expe...|      no_enrollment|    High School|            null|         5|       50-99|Funded Startup|           1|            24|   0.0|\n",
      "|        402| city_46|                 0.762|  Male|Has relevent expe...|      no_enrollment|       Graduate|            STEM|        13|         <10|       Pvt Ltd|          >4|            18|   1.0|\n",
      "|      27107|city_103|                  0.92|  Male|Has relevent expe...|      no_enrollment|       Graduate|            STEM|         7|       50-99|       Pvt Ltd|           1|            46|   1.0|\n",
      "|        699|city_103|                  0.92|  null|Has relevent expe...|      no_enrollment|       Graduate|            STEM|        17|      10000+|       Pvt Ltd|          >4|           123|   0.0|\n",
      "|      29452| city_21|                 0.624|  null|No relevent exper...|   Full time course|    High School|            null|         2|        null|          null|       never|            32|   1.0|\n",
      "|      23853|city_103|                  0.92|  Male|Has relevent expe...|      no_enrollment|       Graduate|            STEM|         5|   5000-9999|       Pvt Ltd|           1|           108|   0.0|\n",
      "|      25619| city_61|    0.9129999999999999|  Male|Has relevent expe...|      no_enrollment|       Graduate|            STEM|       >20|   1000-4999|       Pvt Ltd|           3|            23|   0.0|\n",
      "|       5826| city_21|                 0.624|  Male|No relevent exper...|               null|           null|            null|         2|        null|          null|       never|            24|   0.0|\n",
      "|       8722| city_21|                 0.624|  null|No relevent exper...|   Full time course|    High School|            null|         5|        null|          null|       never|            26|   0.0|\n",
      "|       6588|city_114|    0.9259999999999999|  Male|Has relevent expe...|      no_enrollment|       Graduate|            STEM|        16|       10/49|       Pvt Ltd|          >4|            18|   0.0|\n",
      "|       4167|city_103|                  0.92|  null|Has relevent expe...|      no_enrollment|       Graduate|            STEM|         1|       50-99|       Pvt Ltd|       never|           106|   0.0|\n",
      "|       5764| city_21|                 0.624|  null|Has relevent expe...|      no_enrollment|       Graduate|            STEM|         2|   5000-9999|       Pvt Ltd|           2|             7|   0.0|\n",
      "|       2156| city_21|                 0.624|  null|Has relevent expe...|      no_enrollment|       Graduate|            STEM|         7|      10000+|       Pvt Ltd|       never|            23|   1.0|\n",
      "|      11399| city_13|    0.8270000000000001|Female|Has relevent expe...|      no_enrollment|       Graduate|            Arts|         4|        null|          null|           1|           132|   1.0|\n",
      "+-----------+--------+----------------------+------+--------------------+-------------------+---------------+----------------+----------+------------+--------------+------------+--------------+------+\n",
      "only showing top 20 rows\n",
      "\n"
     ]
    }
   ],
   "source": [
    "dataset_train = spark.read.csv(\n",
    "    path='../../data/jobs/aug_train.csv',\n",
    "    header=True,\n",
    "    inferSchema=True\n",
    ")\n",
    "dataset_train.show()"
   ],
   "metadata": {
    "collapsed": false,
    "pycharm": {
     "name": "#%%\n"
    }
   }
  },
  {
   "cell_type": "code",
   "execution_count": 146,
   "outputs": [
    {
     "name": "stdout",
     "output_type": "stream",
     "text": [
      "root\n",
      " |-- enrollee_id: integer (nullable = true)\n",
      " |-- city: string (nullable = true)\n",
      " |-- city_development_index: double (nullable = true)\n",
      " |-- gender: string (nullable = true)\n",
      " |-- relevent_experience: string (nullable = true)\n",
      " |-- enrolled_university: string (nullable = true)\n",
      " |-- education_level: string (nullable = true)\n",
      " |-- major_discipline: string (nullable = true)\n",
      " |-- experience: string (nullable = true)\n",
      " |-- company_size: string (nullable = true)\n",
      " |-- company_type: string (nullable = true)\n",
      " |-- last_new_job: string (nullable = true)\n",
      " |-- training_hours: integer (nullable = true)\n",
      " |-- target: double (nullable = true)\n",
      "\n"
     ]
    }
   ],
   "source": [
    "dataset_train.printSchema()"
   ],
   "metadata": {
    "collapsed": false,
    "pycharm": {
     "name": "#%%\n"
    }
   }
  },
  {
   "cell_type": "code",
   "execution_count": 147,
   "outputs": [
    {
     "name": "stdout",
     "output_type": "stream",
     "text": [
      "+--------+----------------------+------+--------------------+-------------------+---------------+----------------+----------+------------+--------------+------------+--------------+------+\n",
      "|    city|city_development_index|gender| relevent_experience|enrolled_university|education_level|major_discipline|experience|company_size|  company_type|last_new_job|training_hours|target|\n",
      "+--------+----------------------+------+--------------------+-------------------+---------------+----------------+----------+------------+--------------+------------+--------------+------+\n",
      "|city_103|                  0.92|  Male|Has relevent expe...|      no_enrollment|       Graduate|            STEM|       >20|        null|          null|           1|            36|   1.0|\n",
      "| city_40|    0.7759999999999999|  Male|No relevent exper...|      no_enrollment|       Graduate|            STEM|        15|       50-99|       Pvt Ltd|          >4|            47|   0.0|\n",
      "| city_21|                 0.624|  null|No relevent exper...|   Full time course|       Graduate|            STEM|         5|        null|          null|       never|            83|   0.0|\n",
      "|city_115|                 0.789|  null|No relevent exper...|               null|       Graduate| Business Degree|        <1|        null|       Pvt Ltd|       never|            52|   1.0|\n",
      "|city_162|                 0.767|  Male|Has relevent expe...|      no_enrollment|        Masters|            STEM|       >20|       50-99|Funded Startup|           4|             8|   0.0|\n",
      "|city_176|                 0.764|  null|Has relevent expe...|   Part time course|       Graduate|            STEM|        11|        null|          null|           1|            24|   1.0|\n",
      "|city_160|                  0.92|  Male|Has relevent expe...|      no_enrollment|    High School|            null|         5|       50-99|Funded Startup|           1|            24|   0.0|\n",
      "| city_46|                 0.762|  Male|Has relevent expe...|      no_enrollment|       Graduate|            STEM|        13|         <10|       Pvt Ltd|          >4|            18|   1.0|\n",
      "|city_103|                  0.92|  Male|Has relevent expe...|      no_enrollment|       Graduate|            STEM|         7|       50-99|       Pvt Ltd|           1|            46|   1.0|\n",
      "|city_103|                  0.92|  null|Has relevent expe...|      no_enrollment|       Graduate|            STEM|        17|      10000+|       Pvt Ltd|          >4|           123|   0.0|\n",
      "| city_21|                 0.624|  null|No relevent exper...|   Full time course|    High School|            null|         2|        null|          null|       never|            32|   1.0|\n",
      "|city_103|                  0.92|  Male|Has relevent expe...|      no_enrollment|       Graduate|            STEM|         5|   5000-9999|       Pvt Ltd|           1|           108|   0.0|\n",
      "| city_61|    0.9129999999999999|  Male|Has relevent expe...|      no_enrollment|       Graduate|            STEM|       >20|   1000-4999|       Pvt Ltd|           3|            23|   0.0|\n",
      "| city_21|                 0.624|  Male|No relevent exper...|               null|           null|            null|         2|        null|          null|       never|            24|   0.0|\n",
      "| city_21|                 0.624|  null|No relevent exper...|   Full time course|    High School|            null|         5|        null|          null|       never|            26|   0.0|\n",
      "|city_114|    0.9259999999999999|  Male|Has relevent expe...|      no_enrollment|       Graduate|            STEM|        16|       10/49|       Pvt Ltd|          >4|            18|   0.0|\n",
      "|city_103|                  0.92|  null|Has relevent expe...|      no_enrollment|       Graduate|            STEM|         1|       50-99|       Pvt Ltd|       never|           106|   0.0|\n",
      "| city_21|                 0.624|  null|Has relevent expe...|      no_enrollment|       Graduate|            STEM|         2|   5000-9999|       Pvt Ltd|           2|             7|   0.0|\n",
      "| city_21|                 0.624|  null|Has relevent expe...|      no_enrollment|       Graduate|            STEM|         7|      10000+|       Pvt Ltd|       never|            23|   1.0|\n",
      "| city_13|    0.8270000000000001|Female|Has relevent expe...|      no_enrollment|       Graduate|            Arts|         4|        null|          null|           1|           132|   1.0|\n",
      "+--------+----------------------+------+--------------------+-------------------+---------------+----------------+----------+------------+--------------+------------+--------------+------+\n",
      "only showing top 20 rows\n",
      "\n"
     ]
    }
   ],
   "source": [
    "dataset_train = dataset_train.drop('enrollee_id')\n",
    "dataset_train.show()"
   ],
   "metadata": {
    "collapsed": false,
    "pycharm": {
     "name": "#%%\n"
    }
   }
  },
  {
   "cell_type": "code",
   "execution_count": 148,
   "outputs": [
    {
     "data": {
      "text/plain": "<AxesSubplot:xlabel='target', ylabel='count'>"
     },
     "execution_count": 148,
     "metadata": {},
     "output_type": "execute_result"
    },
    {
     "data": {
      "text/plain": "<Figure size 1440x1440 with 1 Axes>",
      "image/png": "[encoded data removed]"
     },
     "metadata": {
      "needs_background": "light"
     },
     "output_type": "display_data"
    }
   ],
   "source": [
    "plt.figure(figsize=(20, 20))\n",
    "sns.countplot(x='target', data=dataset_train.toPandas())"
   ],
   "metadata": {
    "collapsed": false,
    "pycharm": {
     "name": "#%%\n"
    }
   }
  },
  {
   "cell_type": "code",
   "execution_count": 149,
   "outputs": [
    {
     "name": "stdout",
     "output_type": "stream",
     "text": [
      "+--------+-----+\n",
      "|    city|count|\n",
      "+--------+-----+\n",
      "|city_103| 4355|\n",
      "| city_21| 2702|\n",
      "| city_16| 1533|\n",
      "|city_114| 1336|\n",
      "|city_160|  845|\n",
      "|city_136|  586|\n",
      "| city_67|  431|\n",
      "| city_75|  305|\n",
      "|city_102|  304|\n",
      "|city_104|  301|\n",
      "| city_73|  280|\n",
      "|city_100|  275|\n",
      "| city_71|  266|\n",
      "| city_11|  247|\n",
      "| city_90|  197|\n",
      "| city_61|  197|\n",
      "| city_28|  192|\n",
      "| city_23|  182|\n",
      "| city_65|  175|\n",
      "| city_36|  160|\n",
      "+--------+-----+\n",
      "only showing top 20 rows\n",
      "\n"
     ]
    }
   ],
   "source": [
    "dataset_train.groupby('city').agg(\n",
    "    functions.count('city').alias('count')\n",
    ").sort('count', ascending=False).show()\n"
   ],
   "metadata": {
    "collapsed": false,
    "pycharm": {
     "name": "#%%\n"
    }
   }
  },
  {
   "cell_type": "code",
   "execution_count": 150,
   "outputs": [
    {
     "name": "stdout",
     "output_type": "stream",
     "text": [
      " Quantity of different values City: 123\n",
      " Quantity of different values Experience: 2\n",
      " Quantity of different values Enrolled University: 4\n",
      " Quantity of different values Education Level: 6\n",
      " Quantity of different values Major Discipline: 7\n",
      " Quantity of different values Company Size: 9\n",
      " Quantity of different values Company Type: 7\n",
      " Quantity of different values Last Work: 7\n"
     ]
    }
   ],
   "source": [
    "print(f' Quantity of different values City: {dataset_train.select(dataset_train.city).distinct().count()}')\n",
    "print(\n",
    "    f' Quantity of different values Experience: {dataset_train.select(dataset_train.relevent_experience).distinct().count()}')\n",
    "print(\n",
    "    f' Quantity of different values Enrolled University: {dataset_train.select(dataset_train.enrolled_university).distinct().count()}')\n",
    "print(\n",
    "    f' Quantity of different values Education Level: {dataset_train.select(dataset_train.education_level).distinct().count()}')\n",
    "print(\n",
    "    f' Quantity of different values Major Discipline: {dataset_train.select(dataset_train.major_discipline).distinct().count()}')\n",
    "print(\n",
    "    f' Quantity of different values Company Size: {dataset_train.select(dataset_train.company_size).distinct().count()}')\n",
    "print(\n",
    "    f' Quantity of different values Company Type: {dataset_train.select(dataset_train.company_type).distinct().count()}')\n",
    "print(f' Quantity of different values Last Work: {dataset_train.select(dataset_train.last_new_job).distinct().count()}')\n"
   ],
   "metadata": {
    "collapsed": false,
    "pycharm": {
     "name": "#%%\n"
    }
   }
  },
  {
   "cell_type": "code",
   "execution_count": 151,
   "outputs": [],
   "source": [
    "target_encoder = StringIndexer(inputCol='target', outputCol='targetEncoder')\n",
    "city_encoder = StringIndexer(inputCol='city', outputCol='cityEncoder')\n",
    "gender_encoder = StringIndexer(inputCol='gender', outputCol='genderEncoder')\n",
    "exp_encoder = StringIndexer(inputCol='relevent_experience', outputCol='expEncoder')\n",
    "uny_encoder = StringIndexer(inputCol='enrolled_university', outputCol='unyEncoder')\n",
    "edu_encoder = StringIndexer(inputCol='education_level', outputCol='eduEncoder')\n",
    "dis_encoder = StringIndexer(inputCol='major_discipline', outputCol='disEncoder')\n",
    "c_size_encoder = StringIndexer(inputCol='company_size', outputCol='cSizeEncoder')\n",
    "c_type_encoder = StringIndexer(inputCol='company_type', outputCol='cTypeEncoder')\n",
    "l_job_encoder = StringIndexer(inputCol='last_new_job', outputCol='lJobEncoder')"
   ],
   "metadata": {
    "collapsed": false,
    "pycharm": {
     "name": "#%%\n"
    }
   }
  },
  {
   "cell_type": "code",
   "execution_count": 152,
   "outputs": [],
   "source": [
    "features_encoder = VectorAssembler(inputCols=['city_development_index',\n",
    "                                              'training_hours',\n",
    "                                              #'cityEncoder',\n",
    "                                              #'genderEncoder',\n",
    "                                              'expEncoder',\n",
    "                                              #'unyEncoder',\n",
    "                                              #'eduEncoder',\n",
    "                                              #'disEncoder',\n",
    "                                              #'cSizeEncoder',\n",
    "                                              #'cTypeEncoder',\n",
    "                                              #'lJobEncoder',\n",
    "                                              ],\n",
    "                                   outputCol='features')"
   ],
   "metadata": {
    "collapsed": false,
    "pycharm": {
     "name": "#%%\n"
    }
   }
  },
  {
   "cell_type": "code",
   "execution_count": 153,
   "outputs": [],
   "source": [
    "decision_model = DecisionTreeClassifier(labelCol='targetEncoder',\n",
    "                                        featuresCol='features',\n",
    "                                        maxDepth=10, maxBins=32)"
   ],
   "metadata": {
    "collapsed": false,
    "pycharm": {
     "name": "#%%\n"
    }
   }
  },
  {
   "cell_type": "code",
   "execution_count": 154,
   "outputs": [],
   "source": [
    "pipeline = Pipeline(\n",
    "    stages=[\n",
    "        target_encoder,\n",
    "        city_encoder,\n",
    "        gender_encoder,\n",
    "        exp_encoder,\n",
    "        uny_encoder,\n",
    "        edu_encoder,\n",
    "        dis_encoder,\n",
    "        c_size_encoder,\n",
    "        c_type_encoder,\n",
    "        l_job_encoder,\n",
    "        features_encoder\n",
    "    ]\n",
    ")"
   ],
   "metadata": {
    "collapsed": false,
    "pycharm": {
     "name": "#%%\n"
    }
   }
  },
  {
   "cell_type": "code",
   "execution_count": 155,
   "outputs": [],
   "source": [
    "pipeline_encoder = pipeline.fit(dataset_train)\n",
    "dataset_encoder = pipeline_encoder.transform(dataset_train)"
   ],
   "metadata": {
    "collapsed": false,
    "pycharm": {
     "name": "#%%\n"
    }
   }
  },
  {
   "cell_type": "code",
   "execution_count": 156,
   "outputs": [
    {
     "name": "stdout",
     "output_type": "stream",
     "text": [
      "root\n",
      " |-- city: string (nullable = true)\n",
      " |-- city_development_index: double (nullable = true)\n",
      " |-- gender: string (nullable = true)\n",
      " |-- relevent_experience: string (nullable = true)\n",
      " |-- enrolled_university: string (nullable = true)\n",
      " |-- education_level: string (nullable = true)\n",
      " |-- major_discipline: string (nullable = true)\n",
      " |-- experience: string (nullable = true)\n",
      " |-- company_size: string (nullable = true)\n",
      " |-- company_type: string (nullable = true)\n",
      " |-- last_new_job: string (nullable = true)\n",
      " |-- training_hours: integer (nullable = true)\n",
      " |-- target: double (nullable = true)\n",
      " |-- targetEncoder: double (nullable = false)\n",
      " |-- cityEncoder: double (nullable = false)\n",
      " |-- genderEncoder: double (nullable = false)\n",
      " |-- expEncoder: double (nullable = false)\n",
      " |-- unyEncoder: double (nullable = false)\n",
      " |-- eduEncoder: double (nullable = false)\n",
      " |-- disEncoder: double (nullable = false)\n",
      " |-- cSizeEncoder: double (nullable = false)\n",
      " |-- cTypeEncoder: double (nullable = false)\n",
      " |-- lJobEncoder: double (nullable = false)\n",
      " |-- features: vector (nullable = true)\n",
      "\n"
     ]
    }
   ],
   "source": [
    "dataset_encoder.printSchema()"
   ],
   "metadata": {
    "collapsed": false,
    "pycharm": {
     "name": "#%%\n"
    }
   }
  },
  {
   "cell_type": "code",
   "execution_count": 157,
   "outputs": [
    {
     "name": "stdout",
     "output_type": "stream",
     "text": [
      "+--------------------+\n",
      "|            features|\n",
      "+--------------------+\n",
      "|     [0.92,36.0,0.0]|\n",
      "|[0.77599999999999...|\n",
      "|    [0.624,83.0,1.0]|\n",
      "|    [0.789,52.0,1.0]|\n",
      "|     [0.767,8.0,0.0]|\n",
      "|    [0.764,24.0,0.0]|\n",
      "|     [0.92,24.0,0.0]|\n",
      "|    [0.762,18.0,0.0]|\n",
      "|     [0.92,46.0,0.0]|\n",
      "|    [0.92,123.0,0.0]|\n",
      "|    [0.624,32.0,1.0]|\n",
      "|    [0.92,108.0,0.0]|\n",
      "|[0.91299999999999...|\n",
      "|    [0.624,24.0,1.0]|\n",
      "|    [0.624,26.0,1.0]|\n",
      "|[0.92599999999999...|\n",
      "|    [0.92,106.0,0.0]|\n",
      "|     [0.624,7.0,0.0]|\n",
      "|    [0.624,23.0,0.0]|\n",
      "|[0.82700000000000...|\n",
      "+--------------------+\n",
      "only showing top 20 rows\n",
      "\n"
     ]
    }
   ],
   "source": [
    "dataset_encoder.select('features').show()"
   ],
   "metadata": {
    "collapsed": false,
    "pycharm": {
     "name": "#%%\n"
    }
   }
  },
  {
   "cell_type": "code",
   "execution_count": 158,
   "outputs": [],
   "source": [
    "train, test = dataset_encoder.randomSplit([0.7, 0.3], seed=2021)"
   ],
   "metadata": {
    "collapsed": false,
    "pycharm": {
     "name": "#%%\n"
    }
   }
  },
  {
   "cell_type": "code",
   "execution_count": 159,
   "outputs": [],
   "source": [
    "tree_model = decision_model.fit(dataset_encoder)\n",
    "predictions = tree_model.transform(dataset_encoder)"
   ],
   "metadata": {
    "collapsed": false,
    "pycharm": {
     "name": "#%%\n"
    }
   }
  },
  {
   "cell_type": "code",
   "execution_count": 160,
   "outputs": [
    {
     "name": "stdout",
     "output_type": "stream",
     "text": [
      "+------+----------+\n",
      "|target|prediction|\n",
      "+------+----------+\n",
      "|   1.0|       0.0|\n",
      "|   0.0|       0.0|\n",
      "|   0.0|       0.0|\n",
      "|   1.0|       0.0|\n",
      "|   0.0|       0.0|\n",
      "|   1.0|       0.0|\n",
      "|   0.0|       0.0|\n",
      "|   1.0|       0.0|\n",
      "|   1.0|       0.0|\n",
      "|   0.0|       0.0|\n",
      "|   1.0|       0.0|\n",
      "|   0.0|       0.0|\n",
      "|   0.0|       0.0|\n",
      "|   0.0|       1.0|\n",
      "|   0.0|       1.0|\n",
      "|   0.0|       0.0|\n",
      "|   0.0|       0.0|\n",
      "|   0.0|       1.0|\n",
      "|   1.0|       1.0|\n",
      "|   1.0|       0.0|\n",
      "+------+----------+\n",
      "only showing top 20 rows\n",
      "\n"
     ]
    }
   ],
   "source": [
    "predictions.select('target', 'prediction').show()"
   ],
   "metadata": {
    "collapsed": false,
    "pycharm": {
     "name": "#%%\n"
    }
   }
  },
  {
   "cell_type": "code",
   "execution_count": 161,
   "outputs": [
    {
     "name": "stdout",
     "output_type": "stream",
     "text": [
      "Test Area Under ROC: 0.6465237791292348\n"
     ]
    }
   ],
   "source": [
    "evaluator = BinaryClassificationEvaluator(rawPredictionCol='prediction', labelCol='target')\n",
    "print(\"Test Area Under ROC: \" + str(evaluator.evaluate(predictions, {evaluator.metricName: \"areaUnderROC\"})))"
   ],
   "metadata": {
    "collapsed": false,
    "pycharm": {
     "name": "#%%\n"
    }
   }
  },
  {
   "cell_type": "code",
   "execution_count": 161,
   "outputs": [],
   "source": [],
   "metadata": {
    "collapsed": false,
    "pycharm": {
     "name": "#%%\n"
    }
   }
  }
 ],
 "metadata": {
  "kernelspec": {
   "display_name": "Python 3",
   "language": "python",
   "name": "python3"
  },
  "language_info": {
   "codemirror_mode": {
    "name": "ipython",
    "version": 2
   },
   "file_extension": ".py",
   "mimetype": "text/x-python",
   "name": "python",
   "nbconvert_exporter": "python",
   "pygments_lexer": "ipython2",
   "version": "2.7.6"
  }
 },
 "nbformat": 4,
 "nbformat_minor": 0
}